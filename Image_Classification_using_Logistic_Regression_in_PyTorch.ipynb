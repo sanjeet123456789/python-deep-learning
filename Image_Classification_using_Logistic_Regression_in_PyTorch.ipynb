{
  "nbformat": 4,
  "nbformat_minor": 0,
  "metadata": {
    "colab": {
      "name": "Image Classification using Logistic Regression in PyTorch.ipynb",
      "provenance": [],
      "authorship_tag": "ABX9TyPxIzzHWORwakCDTzReylt9",
      "include_colab_link": true
    },
    "kernelspec": {
      "name": "python3",
      "display_name": "Python 3"
    },
    "widgets": {
      "application/vnd.jupyter.widget-state+json": {
        "2f76fa5d56a74d4db16a097483833779": {
          "model_module": "@jupyter-widgets/controls",
          "model_name": "HBoxModel",
          "state": {
            "_view_name": "HBoxView",
            "_dom_classes": [],
            "_model_name": "HBoxModel",
            "_view_module": "@jupyter-widgets/controls",
            "_model_module_version": "1.5.0",
            "_view_count": null,
            "_view_module_version": "1.5.0",
            "box_style": "",
            "layout": "IPY_MODEL_773c3cadbd1c4cb8841b28adbd174f6d",
            "_model_module": "@jupyter-widgets/controls",
            "children": [
              "IPY_MODEL_68269bb154db41bf9e09af0223aace7d",
              "IPY_MODEL_df759a830fef4c5cb918de3204410eaf"
            ]
          }
        },
        "773c3cadbd1c4cb8841b28adbd174f6d": {
          "model_module": "@jupyter-widgets/base",
          "model_name": "LayoutModel",
          "state": {
            "_view_name": "LayoutView",
            "grid_template_rows": null,
            "right": null,
            "justify_content": null,
            "_view_module": "@jupyter-widgets/base",
            "overflow": null,
            "_model_module_version": "1.2.0",
            "_view_count": null,
            "flex_flow": null,
            "width": null,
            "min_width": null,
            "border": null,
            "align_items": null,
            "bottom": null,
            "_model_module": "@jupyter-widgets/base",
            "top": null,
            "grid_column": null,
            "overflow_y": null,
            "overflow_x": null,
            "grid_auto_flow": null,
            "grid_area": null,
            "grid_template_columns": null,
            "flex": null,
            "_model_name": "LayoutModel",
            "justify_items": null,
            "grid_row": null,
            "max_height": null,
            "align_content": null,
            "visibility": null,
            "align_self": null,
            "height": null,
            "min_height": null,
            "padding": null,
            "grid_auto_rows": null,
            "grid_gap": null,
            "max_width": null,
            "order": null,
            "_view_module_version": "1.2.0",
            "grid_template_areas": null,
            "object_position": null,
            "object_fit": null,
            "grid_auto_columns": null,
            "margin": null,
            "display": null,
            "left": null
          }
        },
        "68269bb154db41bf9e09af0223aace7d": {
          "model_module": "@jupyter-widgets/controls",
          "model_name": "IntProgressModel",
          "state": {
            "_view_name": "ProgressView",
            "style": "IPY_MODEL_6bf77a6cf3784fe7843bec3bd98172f7",
            "_dom_classes": [],
            "description": "",
            "_model_name": "IntProgressModel",
            "bar_style": "info",
            "max": 1,
            "_view_module": "@jupyter-widgets/controls",
            "_model_module_version": "1.5.0",
            "value": 1,
            "_view_count": null,
            "_view_module_version": "1.5.0",
            "orientation": "horizontal",
            "min": 0,
            "description_tooltip": null,
            "_model_module": "@jupyter-widgets/controls",
            "layout": "IPY_MODEL_0baa4d1c75254e26b160205aeeb2a850"
          }
        },
        "df759a830fef4c5cb918de3204410eaf": {
          "model_module": "@jupyter-widgets/controls",
          "model_name": "HTMLModel",
          "state": {
            "_view_name": "HTMLView",
            "style": "IPY_MODEL_9febaf8e542345bc990c09ef0a30c2ae",
            "_dom_classes": [],
            "description": "",
            "_model_name": "HTMLModel",
            "placeholder": "​",
            "_view_module": "@jupyter-widgets/controls",
            "_model_module_version": "1.5.0",
            "value": " 9920512/? [00:20&lt;00:00, 1362141.79it/s]",
            "_view_count": null,
            "_view_module_version": "1.5.0",
            "description_tooltip": null,
            "_model_module": "@jupyter-widgets/controls",
            "layout": "IPY_MODEL_3552a968b76c4666a82c5f7eb0ac37fe"
          }
        },
        "6bf77a6cf3784fe7843bec3bd98172f7": {
          "model_module": "@jupyter-widgets/controls",
          "model_name": "ProgressStyleModel",
          "state": {
            "_view_name": "StyleView",
            "_model_name": "ProgressStyleModel",
            "description_width": "initial",
            "_view_module": "@jupyter-widgets/base",
            "_model_module_version": "1.5.0",
            "_view_count": null,
            "_view_module_version": "1.2.0",
            "bar_color": null,
            "_model_module": "@jupyter-widgets/controls"
          }
        },
        "0baa4d1c75254e26b160205aeeb2a850": {
          "model_module": "@jupyter-widgets/base",
          "model_name": "LayoutModel",
          "state": {
            "_view_name": "LayoutView",
            "grid_template_rows": null,
            "right": null,
            "justify_content": null,
            "_view_module": "@jupyter-widgets/base",
            "overflow": null,
            "_model_module_version": "1.2.0",
            "_view_count": null,
            "flex_flow": null,
            "width": null,
            "min_width": null,
            "border": null,
            "align_items": null,
            "bottom": null,
            "_model_module": "@jupyter-widgets/base",
            "top": null,
            "grid_column": null,
            "overflow_y": null,
            "overflow_x": null,
            "grid_auto_flow": null,
            "grid_area": null,
            "grid_template_columns": null,
            "flex": null,
            "_model_name": "LayoutModel",
            "justify_items": null,
            "grid_row": null,
            "max_height": null,
            "align_content": null,
            "visibility": null,
            "align_self": null,
            "height": null,
            "min_height": null,
            "padding": null,
            "grid_auto_rows": null,
            "grid_gap": null,
            "max_width": null,
            "order": null,
            "_view_module_version": "1.2.0",
            "grid_template_areas": null,
            "object_position": null,
            "object_fit": null,
            "grid_auto_columns": null,
            "margin": null,
            "display": null,
            "left": null
          }
        },
        "9febaf8e542345bc990c09ef0a30c2ae": {
          "model_module": "@jupyter-widgets/controls",
          "model_name": "DescriptionStyleModel",
          "state": {
            "_view_name": "StyleView",
            "_model_name": "DescriptionStyleModel",
            "description_width": "",
            "_view_module": "@jupyter-widgets/base",
            "_model_module_version": "1.5.0",
            "_view_count": null,
            "_view_module_version": "1.2.0",
            "_model_module": "@jupyter-widgets/controls"
          }
        },
        "3552a968b76c4666a82c5f7eb0ac37fe": {
          "model_module": "@jupyter-widgets/base",
          "model_name": "LayoutModel",
          "state": {
            "_view_name": "LayoutView",
            "grid_template_rows": null,
            "right": null,
            "justify_content": null,
            "_view_module": "@jupyter-widgets/base",
            "overflow": null,
            "_model_module_version": "1.2.0",
            "_view_count": null,
            "flex_flow": null,
            "width": null,
            "min_width": null,
            "border": null,
            "align_items": null,
            "bottom": null,
            "_model_module": "@jupyter-widgets/base",
            "top": null,
            "grid_column": null,
            "overflow_y": null,
            "overflow_x": null,
            "grid_auto_flow": null,
            "grid_area": null,
            "grid_template_columns": null,
            "flex": null,
            "_model_name": "LayoutModel",
            "justify_items": null,
            "grid_row": null,
            "max_height": null,
            "align_content": null,
            "visibility": null,
            "align_self": null,
            "height": null,
            "min_height": null,
            "padding": null,
            "grid_auto_rows": null,
            "grid_gap": null,
            "max_width": null,
            "order": null,
            "_view_module_version": "1.2.0",
            "grid_template_areas": null,
            "object_position": null,
            "object_fit": null,
            "grid_auto_columns": null,
            "margin": null,
            "display": null,
            "left": null
          }
        },
        "24e97e2022904efba485ee8c5918002b": {
          "model_module": "@jupyter-widgets/controls",
          "model_name": "HBoxModel",
          "state": {
            "_view_name": "HBoxView",
            "_dom_classes": [],
            "_model_name": "HBoxModel",
            "_view_module": "@jupyter-widgets/controls",
            "_model_module_version": "1.5.0",
            "_view_count": null,
            "_view_module_version": "1.5.0",
            "box_style": "",
            "layout": "IPY_MODEL_c0eadd955f8d4003adc95e2be6220706",
            "_model_module": "@jupyter-widgets/controls",
            "children": [
              "IPY_MODEL_7e71d929f5e34b3aad9b7f99cd2f2043",
              "IPY_MODEL_e02a68d7dc044b8992c94cdc4cc27317"
            ]
          }
        },
        "c0eadd955f8d4003adc95e2be6220706": {
          "model_module": "@jupyter-widgets/base",
          "model_name": "LayoutModel",
          "state": {
            "_view_name": "LayoutView",
            "grid_template_rows": null,
            "right": null,
            "justify_content": null,
            "_view_module": "@jupyter-widgets/base",
            "overflow": null,
            "_model_module_version": "1.2.0",
            "_view_count": null,
            "flex_flow": null,
            "width": null,
            "min_width": null,
            "border": null,
            "align_items": null,
            "bottom": null,
            "_model_module": "@jupyter-widgets/base",
            "top": null,
            "grid_column": null,
            "overflow_y": null,
            "overflow_x": null,
            "grid_auto_flow": null,
            "grid_area": null,
            "grid_template_columns": null,
            "flex": null,
            "_model_name": "LayoutModel",
            "justify_items": null,
            "grid_row": null,
            "max_height": null,
            "align_content": null,
            "visibility": null,
            "align_self": null,
            "height": null,
            "min_height": null,
            "padding": null,
            "grid_auto_rows": null,
            "grid_gap": null,
            "max_width": null,
            "order": null,
            "_view_module_version": "1.2.0",
            "grid_template_areas": null,
            "object_position": null,
            "object_fit": null,
            "grid_auto_columns": null,
            "margin": null,
            "display": null,
            "left": null
          }
        },
        "7e71d929f5e34b3aad9b7f99cd2f2043": {
          "model_module": "@jupyter-widgets/controls",
          "model_name": "IntProgressModel",
          "state": {
            "_view_name": "ProgressView",
            "style": "IPY_MODEL_fccf4b6613c242f0ad8eabf193e5c258",
            "_dom_classes": [],
            "description": "",
            "_model_name": "IntProgressModel",
            "bar_style": "success",
            "max": 1,
            "_view_module": "@jupyter-widgets/controls",
            "_model_module_version": "1.5.0",
            "value": 1,
            "_view_count": null,
            "_view_module_version": "1.5.0",
            "orientation": "horizontal",
            "min": 0,
            "description_tooltip": null,
            "_model_module": "@jupyter-widgets/controls",
            "layout": "IPY_MODEL_d6d012fdf5f645eab2ba91984b998f07"
          }
        },
        "e02a68d7dc044b8992c94cdc4cc27317": {
          "model_module": "@jupyter-widgets/controls",
          "model_name": "HTMLModel",
          "state": {
            "_view_name": "HTMLView",
            "style": "IPY_MODEL_d366c835adf44153be9e808137c72600",
            "_dom_classes": [],
            "description": "",
            "_model_name": "HTMLModel",
            "placeholder": "​",
            "_view_module": "@jupyter-widgets/controls",
            "_model_module_version": "1.5.0",
            "value": " 32768/? [00:01&lt;00:00, 16872.16it/s]",
            "_view_count": null,
            "_view_module_version": "1.5.0",
            "description_tooltip": null,
            "_model_module": "@jupyter-widgets/controls",
            "layout": "IPY_MODEL_b2e0534c1abc45fc988dde42357277af"
          }
        },
        "fccf4b6613c242f0ad8eabf193e5c258": {
          "model_module": "@jupyter-widgets/controls",
          "model_name": "ProgressStyleModel",
          "state": {
            "_view_name": "StyleView",
            "_model_name": "ProgressStyleModel",
            "description_width": "initial",
            "_view_module": "@jupyter-widgets/base",
            "_model_module_version": "1.5.0",
            "_view_count": null,
            "_view_module_version": "1.2.0",
            "bar_color": null,
            "_model_module": "@jupyter-widgets/controls"
          }
        },
        "d6d012fdf5f645eab2ba91984b998f07": {
          "model_module": "@jupyter-widgets/base",
          "model_name": "LayoutModel",
          "state": {
            "_view_name": "LayoutView",
            "grid_template_rows": null,
            "right": null,
            "justify_content": null,
            "_view_module": "@jupyter-widgets/base",
            "overflow": null,
            "_model_module_version": "1.2.0",
            "_view_count": null,
            "flex_flow": null,
            "width": null,
            "min_width": null,
            "border": null,
            "align_items": null,
            "bottom": null,
            "_model_module": "@jupyter-widgets/base",
            "top": null,
            "grid_column": null,
            "overflow_y": null,
            "overflow_x": null,
            "grid_auto_flow": null,
            "grid_area": null,
            "grid_template_columns": null,
            "flex": null,
            "_model_name": "LayoutModel",
            "justify_items": null,
            "grid_row": null,
            "max_height": null,
            "align_content": null,
            "visibility": null,
            "align_self": null,
            "height": null,
            "min_height": null,
            "padding": null,
            "grid_auto_rows": null,
            "grid_gap": null,
            "max_width": null,
            "order": null,
            "_view_module_version": "1.2.0",
            "grid_template_areas": null,
            "object_position": null,
            "object_fit": null,
            "grid_auto_columns": null,
            "margin": null,
            "display": null,
            "left": null
          }
        },
        "d366c835adf44153be9e808137c72600": {
          "model_module": "@jupyter-widgets/controls",
          "model_name": "DescriptionStyleModel",
          "state": {
            "_view_name": "StyleView",
            "_model_name": "DescriptionStyleModel",
            "description_width": "",
            "_view_module": "@jupyter-widgets/base",
            "_model_module_version": "1.5.0",
            "_view_count": null,
            "_view_module_version": "1.2.0",
            "_model_module": "@jupyter-widgets/controls"
          }
        },
        "b2e0534c1abc45fc988dde42357277af": {
          "model_module": "@jupyter-widgets/base",
          "model_name": "LayoutModel",
          "state": {
            "_view_name": "LayoutView",
            "grid_template_rows": null,
            "right": null,
            "justify_content": null,
            "_view_module": "@jupyter-widgets/base",
            "overflow": null,
            "_model_module_version": "1.2.0",
            "_view_count": null,
            "flex_flow": null,
            "width": null,
            "min_width": null,
            "border": null,
            "align_items": null,
            "bottom": null,
            "_model_module": "@jupyter-widgets/base",
            "top": null,
            "grid_column": null,
            "overflow_y": null,
            "overflow_x": null,
            "grid_auto_flow": null,
            "grid_area": null,
            "grid_template_columns": null,
            "flex": null,
            "_model_name": "LayoutModel",
            "justify_items": null,
            "grid_row": null,
            "max_height": null,
            "align_content": null,
            "visibility": null,
            "align_self": null,
            "height": null,
            "min_height": null,
            "padding": null,
            "grid_auto_rows": null,
            "grid_gap": null,
            "max_width": null,
            "order": null,
            "_view_module_version": "1.2.0",
            "grid_template_areas": null,
            "object_position": null,
            "object_fit": null,
            "grid_auto_columns": null,
            "margin": null,
            "display": null,
            "left": null
          }
        },
        "0bc960570367404bb425dc94ae76abcf": {
          "model_module": "@jupyter-widgets/controls",
          "model_name": "HBoxModel",
          "state": {
            "_view_name": "HBoxView",
            "_dom_classes": [],
            "_model_name": "HBoxModel",
            "_view_module": "@jupyter-widgets/controls",
            "_model_module_version": "1.5.0",
            "_view_count": null,
            "_view_module_version": "1.5.0",
            "box_style": "",
            "layout": "IPY_MODEL_7701593b4b594865acc44418946aba03",
            "_model_module": "@jupyter-widgets/controls",
            "children": [
              "IPY_MODEL_c60e0a8dbe9c411db34a35ddd3a9e639",
              "IPY_MODEL_ece6baec638d44c39ae0d5df54a9631a"
            ]
          }
        },
        "7701593b4b594865acc44418946aba03": {
          "model_module": "@jupyter-widgets/base",
          "model_name": "LayoutModel",
          "state": {
            "_view_name": "LayoutView",
            "grid_template_rows": null,
            "right": null,
            "justify_content": null,
            "_view_module": "@jupyter-widgets/base",
            "overflow": null,
            "_model_module_version": "1.2.0",
            "_view_count": null,
            "flex_flow": null,
            "width": null,
            "min_width": null,
            "border": null,
            "align_items": null,
            "bottom": null,
            "_model_module": "@jupyter-widgets/base",
            "top": null,
            "grid_column": null,
            "overflow_y": null,
            "overflow_x": null,
            "grid_auto_flow": null,
            "grid_area": null,
            "grid_template_columns": null,
            "flex": null,
            "_model_name": "LayoutModel",
            "justify_items": null,
            "grid_row": null,
            "max_height": null,
            "align_content": null,
            "visibility": null,
            "align_self": null,
            "height": null,
            "min_height": null,
            "padding": null,
            "grid_auto_rows": null,
            "grid_gap": null,
            "max_width": null,
            "order": null,
            "_view_module_version": "1.2.0",
            "grid_template_areas": null,
            "object_position": null,
            "object_fit": null,
            "grid_auto_columns": null,
            "margin": null,
            "display": null,
            "left": null
          }
        },
        "c60e0a8dbe9c411db34a35ddd3a9e639": {
          "model_module": "@jupyter-widgets/controls",
          "model_name": "IntProgressModel",
          "state": {
            "_view_name": "ProgressView",
            "style": "IPY_MODEL_7854c269907e48658bf5bacc75123f36",
            "_dom_classes": [],
            "description": "",
            "_model_name": "IntProgressModel",
            "bar_style": "info",
            "max": 1,
            "_view_module": "@jupyter-widgets/controls",
            "_model_module_version": "1.5.0",
            "value": 1,
            "_view_count": null,
            "_view_module_version": "1.5.0",
            "orientation": "horizontal",
            "min": 0,
            "description_tooltip": null,
            "_model_module": "@jupyter-widgets/controls",
            "layout": "IPY_MODEL_7800872e999643f8a1df4b9e097d2838"
          }
        },
        "ece6baec638d44c39ae0d5df54a9631a": {
          "model_module": "@jupyter-widgets/controls",
          "model_name": "HTMLModel",
          "state": {
            "_view_name": "HTMLView",
            "style": "IPY_MODEL_ab3d50e0d07e40c3bcb8846e01dce245",
            "_dom_classes": [],
            "description": "",
            "_model_name": "HTMLModel",
            "placeholder": "​",
            "_view_module": "@jupyter-widgets/controls",
            "_model_module_version": "1.5.0",
            "value": " 1654784/? [00:16&lt;00:00, 270682.26it/s]",
            "_view_count": null,
            "_view_module_version": "1.5.0",
            "description_tooltip": null,
            "_model_module": "@jupyter-widgets/controls",
            "layout": "IPY_MODEL_f6dd265b99c04f5dbf5509d33d1ac64e"
          }
        },
        "7854c269907e48658bf5bacc75123f36": {
          "model_module": "@jupyter-widgets/controls",
          "model_name": "ProgressStyleModel",
          "state": {
            "_view_name": "StyleView",
            "_model_name": "ProgressStyleModel",
            "description_width": "initial",
            "_view_module": "@jupyter-widgets/base",
            "_model_module_version": "1.5.0",
            "_view_count": null,
            "_view_module_version": "1.2.0",
            "bar_color": null,
            "_model_module": "@jupyter-widgets/controls"
          }
        },
        "7800872e999643f8a1df4b9e097d2838": {
          "model_module": "@jupyter-widgets/base",
          "model_name": "LayoutModel",
          "state": {
            "_view_name": "LayoutView",
            "grid_template_rows": null,
            "right": null,
            "justify_content": null,
            "_view_module": "@jupyter-widgets/base",
            "overflow": null,
            "_model_module_version": "1.2.0",
            "_view_count": null,
            "flex_flow": null,
            "width": null,
            "min_width": null,
            "border": null,
            "align_items": null,
            "bottom": null,
            "_model_module": "@jupyter-widgets/base",
            "top": null,
            "grid_column": null,
            "overflow_y": null,
            "overflow_x": null,
            "grid_auto_flow": null,
            "grid_area": null,
            "grid_template_columns": null,
            "flex": null,
            "_model_name": "LayoutModel",
            "justify_items": null,
            "grid_row": null,
            "max_height": null,
            "align_content": null,
            "visibility": null,
            "align_self": null,
            "height": null,
            "min_height": null,
            "padding": null,
            "grid_auto_rows": null,
            "grid_gap": null,
            "max_width": null,
            "order": null,
            "_view_module_version": "1.2.0",
            "grid_template_areas": null,
            "object_position": null,
            "object_fit": null,
            "grid_auto_columns": null,
            "margin": null,
            "display": null,
            "left": null
          }
        },
        "ab3d50e0d07e40c3bcb8846e01dce245": {
          "model_module": "@jupyter-widgets/controls",
          "model_name": "DescriptionStyleModel",
          "state": {
            "_view_name": "StyleView",
            "_model_name": "DescriptionStyleModel",
            "description_width": "",
            "_view_module": "@jupyter-widgets/base",
            "_model_module_version": "1.5.0",
            "_view_count": null,
            "_view_module_version": "1.2.0",
            "_model_module": "@jupyter-widgets/controls"
          }
        },
        "f6dd265b99c04f5dbf5509d33d1ac64e": {
          "model_module": "@jupyter-widgets/base",
          "model_name": "LayoutModel",
          "state": {
            "_view_name": "LayoutView",
            "grid_template_rows": null,
            "right": null,
            "justify_content": null,
            "_view_module": "@jupyter-widgets/base",
            "overflow": null,
            "_model_module_version": "1.2.0",
            "_view_count": null,
            "flex_flow": null,
            "width": null,
            "min_width": null,
            "border": null,
            "align_items": null,
            "bottom": null,
            "_model_module": "@jupyter-widgets/base",
            "top": null,
            "grid_column": null,
            "overflow_y": null,
            "overflow_x": null,
            "grid_auto_flow": null,
            "grid_area": null,
            "grid_template_columns": null,
            "flex": null,
            "_model_name": "LayoutModel",
            "justify_items": null,
            "grid_row": null,
            "max_height": null,
            "align_content": null,
            "visibility": null,
            "align_self": null,
            "height": null,
            "min_height": null,
            "padding": null,
            "grid_auto_rows": null,
            "grid_gap": null,
            "max_width": null,
            "order": null,
            "_view_module_version": "1.2.0",
            "grid_template_areas": null,
            "object_position": null,
            "object_fit": null,
            "grid_auto_columns": null,
            "margin": null,
            "display": null,
            "left": null
          }
        },
        "23cc33782f884f9b8480f81b6cc15218": {
          "model_module": "@jupyter-widgets/controls",
          "model_name": "HBoxModel",
          "state": {
            "_view_name": "HBoxView",
            "_dom_classes": [],
            "_model_name": "HBoxModel",
            "_view_module": "@jupyter-widgets/controls",
            "_model_module_version": "1.5.0",
            "_view_count": null,
            "_view_module_version": "1.5.0",
            "box_style": "",
            "layout": "IPY_MODEL_57efcedd52d1483bb20dcf0ab079a967",
            "_model_module": "@jupyter-widgets/controls",
            "children": [
              "IPY_MODEL_c475830bc7dd42cf9b16e7cc26af7c05",
              "IPY_MODEL_d5e313fc96874e9fab47d46dbeceb12b"
            ]
          }
        },
        "57efcedd52d1483bb20dcf0ab079a967": {
          "model_module": "@jupyter-widgets/base",
          "model_name": "LayoutModel",
          "state": {
            "_view_name": "LayoutView",
            "grid_template_rows": null,
            "right": null,
            "justify_content": null,
            "_view_module": "@jupyter-widgets/base",
            "overflow": null,
            "_model_module_version": "1.2.0",
            "_view_count": null,
            "flex_flow": null,
            "width": null,
            "min_width": null,
            "border": null,
            "align_items": null,
            "bottom": null,
            "_model_module": "@jupyter-widgets/base",
            "top": null,
            "grid_column": null,
            "overflow_y": null,
            "overflow_x": null,
            "grid_auto_flow": null,
            "grid_area": null,
            "grid_template_columns": null,
            "flex": null,
            "_model_name": "LayoutModel",
            "justify_items": null,
            "grid_row": null,
            "max_height": null,
            "align_content": null,
            "visibility": null,
            "align_self": null,
            "height": null,
            "min_height": null,
            "padding": null,
            "grid_auto_rows": null,
            "grid_gap": null,
            "max_width": null,
            "order": null,
            "_view_module_version": "1.2.0",
            "grid_template_areas": null,
            "object_position": null,
            "object_fit": null,
            "grid_auto_columns": null,
            "margin": null,
            "display": null,
            "left": null
          }
        },
        "c475830bc7dd42cf9b16e7cc26af7c05": {
          "model_module": "@jupyter-widgets/controls",
          "model_name": "IntProgressModel",
          "state": {
            "_view_name": "ProgressView",
            "style": "IPY_MODEL_37c9029ad7804cb9b1562e5a74986b2a",
            "_dom_classes": [],
            "description": "  0%",
            "_model_name": "IntProgressModel",
            "bar_style": "info",
            "max": 1,
            "_view_module": "@jupyter-widgets/controls",
            "_model_module_version": "1.5.0",
            "value": 0,
            "_view_count": null,
            "_view_module_version": "1.5.0",
            "orientation": "horizontal",
            "min": 0,
            "description_tooltip": null,
            "_model_module": "@jupyter-widgets/controls",
            "layout": "IPY_MODEL_1c2c9fc592c3478a941b7e635216ed85"
          }
        },
        "d5e313fc96874e9fab47d46dbeceb12b": {
          "model_module": "@jupyter-widgets/controls",
          "model_name": "HTMLModel",
          "state": {
            "_view_name": "HTMLView",
            "style": "IPY_MODEL_1b89fd7a9a5f491d94ec95a63f32ace3",
            "_dom_classes": [],
            "description": "",
            "_model_name": "HTMLModel",
            "placeholder": "​",
            "_view_module": "@jupyter-widgets/controls",
            "_model_module_version": "1.5.0",
            "value": " 0/4542 [00:00&lt;?, ?it/s]",
            "_view_count": null,
            "_view_module_version": "1.5.0",
            "description_tooltip": null,
            "_model_module": "@jupyter-widgets/controls",
            "layout": "IPY_MODEL_17b1f468dfd84005aa224c50a435d360"
          }
        },
        "37c9029ad7804cb9b1562e5a74986b2a": {
          "model_module": "@jupyter-widgets/controls",
          "model_name": "ProgressStyleModel",
          "state": {
            "_view_name": "StyleView",
            "_model_name": "ProgressStyleModel",
            "description_width": "initial",
            "_view_module": "@jupyter-widgets/base",
            "_model_module_version": "1.5.0",
            "_view_count": null,
            "_view_module_version": "1.2.0",
            "bar_color": null,
            "_model_module": "@jupyter-widgets/controls"
          }
        },
        "1c2c9fc592c3478a941b7e635216ed85": {
          "model_module": "@jupyter-widgets/base",
          "model_name": "LayoutModel",
          "state": {
            "_view_name": "LayoutView",
            "grid_template_rows": null,
            "right": null,
            "justify_content": null,
            "_view_module": "@jupyter-widgets/base",
            "overflow": null,
            "_model_module_version": "1.2.0",
            "_view_count": null,
            "flex_flow": null,
            "width": null,
            "min_width": null,
            "border": null,
            "align_items": null,
            "bottom": null,
            "_model_module": "@jupyter-widgets/base",
            "top": null,
            "grid_column": null,
            "overflow_y": null,
            "overflow_x": null,
            "grid_auto_flow": null,
            "grid_area": null,
            "grid_template_columns": null,
            "flex": null,
            "_model_name": "LayoutModel",
            "justify_items": null,
            "grid_row": null,
            "max_height": null,
            "align_content": null,
            "visibility": null,
            "align_self": null,
            "height": null,
            "min_height": null,
            "padding": null,
            "grid_auto_rows": null,
            "grid_gap": null,
            "max_width": null,
            "order": null,
            "_view_module_version": "1.2.0",
            "grid_template_areas": null,
            "object_position": null,
            "object_fit": null,
            "grid_auto_columns": null,
            "margin": null,
            "display": null,
            "left": null
          }
        },
        "1b89fd7a9a5f491d94ec95a63f32ace3": {
          "model_module": "@jupyter-widgets/controls",
          "model_name": "DescriptionStyleModel",
          "state": {
            "_view_name": "StyleView",
            "_model_name": "DescriptionStyleModel",
            "description_width": "",
            "_view_module": "@jupyter-widgets/base",
            "_model_module_version": "1.5.0",
            "_view_count": null,
            "_view_module_version": "1.2.0",
            "_model_module": "@jupyter-widgets/controls"
          }
        },
        "17b1f468dfd84005aa224c50a435d360": {
          "model_module": "@jupyter-widgets/base",
          "model_name": "LayoutModel",
          "state": {
            "_view_name": "LayoutView",
            "grid_template_rows": null,
            "right": null,
            "justify_content": null,
            "_view_module": "@jupyter-widgets/base",
            "overflow": null,
            "_model_module_version": "1.2.0",
            "_view_count": null,
            "flex_flow": null,
            "width": null,
            "min_width": null,
            "border": null,
            "align_items": null,
            "bottom": null,
            "_model_module": "@jupyter-widgets/base",
            "top": null,
            "grid_column": null,
            "overflow_y": null,
            "overflow_x": null,
            "grid_auto_flow": null,
            "grid_area": null,
            "grid_template_columns": null,
            "flex": null,
            "_model_name": "LayoutModel",
            "justify_items": null,
            "grid_row": null,
            "max_height": null,
            "align_content": null,
            "visibility": null,
            "align_self": null,
            "height": null,
            "min_height": null,
            "padding": null,
            "grid_auto_rows": null,
            "grid_gap": null,
            "max_width": null,
            "order": null,
            "_view_module_version": "1.2.0",
            "grid_template_areas": null,
            "object_position": null,
            "object_fit": null,
            "grid_auto_columns": null,
            "margin": null,
            "display": null,
            "left": null
          }
        }
      }
    }
  },
  "cells": [
    {
      "cell_type": "markdown",
      "metadata": {
        "id": "view-in-github",
        "colab_type": "text"
      },
      "source": [
        "<a href=\"https://colab.research.google.com/github/sanjeet123456789/python-deep-learning/blob/master/Image_Classification_using_Logistic_Regression_in_PyTorch.ipynb\" target=\"_parent\"><img src=\"https://colab.research.google.com/assets/colab-badge.svg\" alt=\"Open In Colab\"/></a>"
      ]
    },
    {
      "cell_type": "code",
      "metadata": {
        "id": "cWlQOSz27BBD",
        "colab_type": "code",
        "colab": {}
      },
      "source": [
        "import torch\n",
        "import torchvision\n",
        "from torchvision.datasets import MNIST"
      ],
      "execution_count": 0,
      "outputs": []
    },
    {
      "cell_type": "code",
      "metadata": {
        "id": "YuoFrFI37NfC",
        "colab_type": "code",
        "colab": {
          "base_uri": "https://localhost:8080/",
          "height": 391,
          "referenced_widgets": [
            "2f76fa5d56a74d4db16a097483833779",
            "773c3cadbd1c4cb8841b28adbd174f6d",
            "68269bb154db41bf9e09af0223aace7d",
            "df759a830fef4c5cb918de3204410eaf",
            "6bf77a6cf3784fe7843bec3bd98172f7",
            "0baa4d1c75254e26b160205aeeb2a850",
            "9febaf8e542345bc990c09ef0a30c2ae",
            "3552a968b76c4666a82c5f7eb0ac37fe",
            "24e97e2022904efba485ee8c5918002b",
            "c0eadd955f8d4003adc95e2be6220706",
            "7e71d929f5e34b3aad9b7f99cd2f2043",
            "e02a68d7dc044b8992c94cdc4cc27317",
            "fccf4b6613c242f0ad8eabf193e5c258",
            "d6d012fdf5f645eab2ba91984b998f07",
            "d366c835adf44153be9e808137c72600",
            "b2e0534c1abc45fc988dde42357277af",
            "0bc960570367404bb425dc94ae76abcf",
            "7701593b4b594865acc44418946aba03",
            "c60e0a8dbe9c411db34a35ddd3a9e639",
            "ece6baec638d44c39ae0d5df54a9631a",
            "7854c269907e48658bf5bacc75123f36",
            "7800872e999643f8a1df4b9e097d2838",
            "ab3d50e0d07e40c3bcb8846e01dce245",
            "f6dd265b99c04f5dbf5509d33d1ac64e",
            "23cc33782f884f9b8480f81b6cc15218",
            "57efcedd52d1483bb20dcf0ab079a967",
            "c475830bc7dd42cf9b16e7cc26af7c05",
            "d5e313fc96874e9fab47d46dbeceb12b",
            "37c9029ad7804cb9b1562e5a74986b2a",
            "1c2c9fc592c3478a941b7e635216ed85",
            "1b89fd7a9a5f491d94ec95a63f32ace3",
            "17b1f468dfd84005aa224c50a435d360"
          ]
        },
        "outputId": "f7e4790f-ddf1-4f1c-e860-270009b6fb95"
      },
      "source": [
        "#downloading training dataset\n",
        "dataset=MNIST(root='data/',download=True)\n",
        "\n",
        "print(len(dataset))"
      ],
      "execution_count": 2,
      "outputs": [
        {
          "output_type": "stream",
          "text": [
            "Downloading http://yann.lecun.com/exdb/mnist/train-images-idx3-ubyte.gz to data/MNIST/raw/train-images-idx3-ubyte.gz\n"
          ],
          "name": "stdout"
        },
        {
          "output_type": "display_data",
          "data": {
            "application/vnd.jupyter.widget-view+json": {
              "model_id": "2f76fa5d56a74d4db16a097483833779",
              "version_minor": 0,
              "version_major": 2
            },
            "text/plain": [
              "HBox(children=(IntProgress(value=1, bar_style='info', max=1), HTML(value='')))"
            ]
          },
          "metadata": {
            "tags": []
          }
        },
        {
          "output_type": "stream",
          "text": [
            "Extracting data/MNIST/raw/train-images-idx3-ubyte.gz to data/MNIST/raw\n",
            "Downloading http://yann.lecun.com/exdb/mnist/train-labels-idx1-ubyte.gz to data/MNIST/raw/train-labels-idx1-ubyte.gz\n"
          ],
          "name": "stdout"
        },
        {
          "output_type": "display_data",
          "data": {
            "application/vnd.jupyter.widget-view+json": {
              "model_id": "24e97e2022904efba485ee8c5918002b",
              "version_minor": 0,
              "version_major": 2
            },
            "text/plain": [
              "HBox(children=(IntProgress(value=1, bar_style='info', max=1), HTML(value='')))"
            ]
          },
          "metadata": {
            "tags": []
          }
        },
        {
          "output_type": "stream",
          "text": [
            "Extracting data/MNIST/raw/train-labels-idx1-ubyte.gz to data/MNIST/raw\n",
            "Downloading http://yann.lecun.com/exdb/mnist/t10k-images-idx3-ubyte.gz to data/MNIST/raw/t10k-images-idx3-ubyte.gz\n"
          ],
          "name": "stdout"
        },
        {
          "output_type": "display_data",
          "data": {
            "application/vnd.jupyter.widget-view+json": {
              "model_id": "0bc960570367404bb425dc94ae76abcf",
              "version_minor": 0,
              "version_major": 2
            },
            "text/plain": [
              "HBox(children=(IntProgress(value=1, bar_style='info', max=1), HTML(value='')))"
            ]
          },
          "metadata": {
            "tags": []
          }
        },
        {
          "output_type": "stream",
          "text": [
            "\n",
            "Extracting data/MNIST/raw/t10k-images-idx3-ubyte.gz to data/MNIST/raw\n",
            "Downloading http://yann.lecun.com/exdb/mnist/t10k-labels-idx1-ubyte.gz to data/MNIST/raw/t10k-labels-idx1-ubyte.gz\n"
          ],
          "name": "stdout"
        },
        {
          "output_type": "display_data",
          "data": {
            "application/vnd.jupyter.widget-view+json": {
              "model_id": "23cc33782f884f9b8480f81b6cc15218",
              "version_minor": 0,
              "version_major": 2
            },
            "text/plain": [
              "HBox(children=(IntProgress(value=1, bar_style='info', max=1), HTML(value='')))"
            ]
          },
          "metadata": {
            "tags": []
          }
        },
        {
          "output_type": "stream",
          "text": [
            "Extracting data/MNIST/raw/t10k-labels-idx1-ubyte.gz to data/MNIST/raw\n",
            "Processing...\n",
            "Done!\n",
            "60000\n"
          ],
          "name": "stdout"
        },
        {
          "output_type": "stream",
          "text": [
            "/pytorch/torch/csrc/utils/tensor_numpy.cpp:141: UserWarning: The given NumPy array is not writeable, and PyTorch does not support non-writeable tensors. This means you can write to the underlying (supposedly non-writeable) NumPy array using the tensor. You may want to copy the array to protect its data or make it writeable before converting it to a tensor. This type of warning will be suppressed for the rest of this program.\n"
          ],
          "name": "stderr"
        }
      ]
    },
    {
      "cell_type": "code",
      "metadata": {
        "id": "RHlX2sHq7dcm",
        "colab_type": "code",
        "colab": {
          "base_uri": "https://localhost:8080/",
          "height": 52
        },
        "outputId": "ab029db2-7c07-4455-e31f-acd3280f3e02"
      },
      "source": [
        "test_dataset=MNIST(root='data/',train=False)\n",
        "print(len(test_dataset))\n",
        "\n",
        "print(dataset[0])"
      ],
      "execution_count": 3,
      "outputs": [
        {
          "output_type": "stream",
          "text": [
            "10000\n",
            "(<PIL.Image.Image image mode=L size=28x28 at 0x7FD9FA4E2390>, 5)\n"
          ],
          "name": "stdout"
        }
      ]
    },
    {
      "cell_type": "code",
      "metadata": {
        "id": "PFSyzPwv7fb7",
        "colab_type": "code",
        "colab": {}
      },
      "source": [
        "import matplotlib.pyplot as plt\n",
        "%matplotlib inline"
      ],
      "execution_count": 0,
      "outputs": []
    },
    {
      "cell_type": "code",
      "metadata": {
        "id": "sX0lBC867oAb",
        "colab_type": "code",
        "colab": {
          "base_uri": "https://localhost:8080/",
          "height": 282
        },
        "outputId": "1f20d40b-573c-4f6e-8b3a-92e85d38d263"
      },
      "source": [
        "#looking images from a dataset\n",
        "Image,label=dataset[456]\n",
        "plt.imshow(Image,cmap='gray')\n",
        "print('Label:',label)"
      ],
      "execution_count": 10,
      "outputs": [
        {
          "output_type": "stream",
          "text": [
            "Label: 8\n"
          ],
          "name": "stdout"
        },
        {
          "output_type": "display_data",
          "data": {
            "image/png": "[encoded data removed]",
            "text/plain": [
              "<Figure size 432x288 with 1 Axes>"
            ]
          },
          "metadata": {
            "tags": [],
            "needs_background": "light"
          }
        }
      ]
    },
    {
      "cell_type": "code",
      "metadata": {
        "id": "dp0PmnN17z2i",
        "colab_type": "code",
        "colab": {}
      },
      "source": [
        "import torchvision.transforms as transforms\n",
        "\n",
        "#MNIST dataset (images and label)\n",
        "#convert image into pytorch tensor\n",
        "\n",
        "\n"
      ],
      "execution_count": 0,
      "outputs": []
    },
    {
      "cell_type": "code",
      "metadata": {
        "id": "hf2JAh4M9yNB",
        "colab_type": "code",
        "colab": {}
      },
      "source": [
        "# MNIST dataset (images and labels)\n",
        "dataset = MNIST(root='data/', \n",
        "                train=True,\n",
        "                transform=transforms.ToTensor())"
      ],
      "execution_count": 0,
      "outputs": []
    },
    {
      "cell_type": "code",
      "metadata": {
        "id": "pp2L1Y2p8Hyt",
        "colab_type": "code",
        "colab": {
          "base_uri": "https://localhost:8080/",
          "height": 300
        },
        "outputId": "fab547e0-560d-4042-ff86-582e7b3e8eaa"
      },
      "source": [
        "#convert into image tensor and viewing it\n",
        "img_tensor,label=dataset[0]\n",
        "print(img_tensor.shape,label)\n",
        "plt.imshow(img_tensor[0,:,:],cmap='gray')"
      ],
      "execution_count": 32,
      "outputs": [
        {
          "output_type": "stream",
          "text": [
            "torch.Size([1, 28, 28]) 5\n"
          ],
          "name": "stdout"
        },
        {
          "output_type": "execute_result",
          "data": {
            "text/plain": [
              "<matplotlib.image.AxesImage at 0x7fd9987d8f60>"
            ]
          },
          "metadata": {
            "tags": []
          },
          "execution_count": 32
        },
        {
          "output_type": "display_data",
          "data": {
            "image/png": "[encoded data removed]",
            "text/plain": [
              "<Figure size 432x288 with 1 Axes>"
            ]
          },
          "metadata": {
            "tags": [],
            "needs_background": "light"
          }
        }
      ]
    },
    {
      "cell_type": "code",
      "metadata": {
        "id": "3fiFvMir-UCH",
        "colab_type": "code",
        "colab": {
          "base_uri": "https://localhost:8080/",
          "height": 121
        },
        "outputId": "7ab27cfc-52b5-4672-a8d4-1c053c6367b0"
      },
      "source": [
        "#viewing the pixel of the image between 10and 15\n",
        "print(img_tensor[:,10:15,10:15])\n",
        "print(torch.max(img_tensor),torch.min(img_tensor))"
      ],
      "execution_count": 33,
      "outputs": [
        {
          "output_type": "stream",
          "text": [
            "tensor([[[0.0039, 0.6039, 0.9922, 0.3529, 0.0000],\n",
            "         [0.0000, 0.5451, 0.9922, 0.7451, 0.0078],\n",
            "         [0.0000, 0.0431, 0.7451, 0.9922, 0.2745],\n",
            "         [0.0000, 0.0000, 0.1373, 0.9451, 0.8824],\n",
            "         [0.0000, 0.0000, 0.0000, 0.3176, 0.9412]]])\n",
            "tensor(1.) tensor(0.)\n"
          ],
          "name": "stdout"
        }
      ]
    },
    {
      "cell_type": "code",
      "metadata": {
        "id": "0ePqtvKk-bLt",
        "colab_type": "code",
        "colab": {
          "base_uri": "https://localhost:8080/",
          "height": 265
        },
        "outputId": "a27f38e5-742a-4dbb-9889-ffb0ffd3a34d"
      },
      "source": [
        "#plot the image by passing in the 28*28 matrix\n",
        "plt.imshow(img_tensor[0,10:15,10:15],cmap='gray');"
      ],
      "execution_count": 34,
      "outputs": [
        {
          "output_type": "display_data",
          "data": {
            "image/png": "[encoded data removed]",
            "text/plain": [
              "<Figure size 432x288 with 1 Axes>"
            ]
          },
          "metadata": {
            "tags": [],
            "needs_background": "light"
          }
        }
      ]
    },
    {
      "cell_type": "code",
      "metadata": {
        "id": "x1pDACNA_JHW",
        "colab_type": "code",
        "colab": {
          "base_uri": "https://localhost:8080/",
          "height": 34
        },
        "outputId": "642ab8e6-2e4e-4ca7-d070-1db49147fb5e"
      },
      "source": [
        "#Training and validation datasets \n",
        "#Training set(used to adjust the weights)\n",
        "#Validation set(evaluate the model while training and pick the best model adjust the hyperparameter)\n",
        "#Test set(compare different models)\n",
        "import numpy as np\n",
        "n=6000\n",
        "val_pct=0.5\n",
        "n_val=int(val_pct*n)\n",
        "idxs=np.random.permutation(n)\n",
        "print(idxs)"
      ],
      "execution_count": 35,
      "outputs": [
        {
          "output_type": "stream",
          "text": [
            "[4656 1254  792 ... 5381 2699 4714]\n"
          ],
          "name": "stdout"
        }
      ]
    },
    {
      "cell_type": "code",
      "metadata": {
        "id": "NBFsQ3fm_PFs",
        "colab_type": "code",
        "colab": {}
      },
      "source": [
        "import numpy as np\n",
        "def split_indices(n,val_pct):\n",
        "    #Getting size of validation set\n",
        "    n_val=int(val_pct*n)\n",
        "    #create random permutation of 0 to n-1\n",
        "    idxs=np.random.permutation(n)\n",
        "    #pick first n_val indices for validation set\n",
        "    return idxs[n_val:],idxs[:n_val]"
      ],
      "execution_count": 0,
      "outputs": []
    },
    {
      "cell_type": "code",
      "metadata": {
        "id": "nx5Xc0Tk_cLG",
        "colab_type": "code",
        "colab": {
          "base_uri": "https://localhost:8080/",
          "height": 69
        },
        "outputId": "11674078-b62e-43cd-c13f-599d5c1e23c0"
      },
      "source": [
        "#split into taining and validation and \n",
        "#test we already have in another dataset\n",
        "train_indices,val_indices=split_indices(len(dataset),val_pct=0.2)\n",
        "print(len(train_indices),len(val_indices))\n",
        "print('Sample val indices:',val_indices[:20])"
      ],
      "execution_count": 41,
      "outputs": [
        {
          "output_type": "stream",
          "text": [
            "48000 12000\n",
            "Sample val indices: [30809 25744 51656 57534 50857 16122 50993  5979 49197 13278 36276 36496\n",
            " 42211 19171  1932 12133 45331 15028 13181 32456]\n"
          ],
          "name": "stdout"
        }
      ]
    },
    {
      "cell_type": "code",
      "metadata": {
        "id": "QMsKX0tc_uUO",
        "colab_type": "code",
        "colab": {}
      },
      "source": [
        "from torch.utils.data.sampler import SubsetRandomSampler\n",
        "from torch.utils.data.dataloader import DataLoader"
      ],
      "execution_count": 0,
      "outputs": []
    },
    {
      "cell_type": "code",
      "metadata": {
        "id": "l12z6q2Q_y80",
        "colab_type": "code",
        "colab": {}
      },
      "source": [
        "batch_size=100\n",
        "#Training sampler and data loader\n",
        "train_sampler=SubsetRandomSampler(train_indices)\n",
        "train_loader=DataLoader(dataset,batch_size,sampler=train_sampler)\n",
        "\n",
        "#Validation sampler and data loader\n",
        "val_sampler=SubsetRandomSampler(val_indices)\n",
        "val_loader=DataLoader(dataset,batch_size,sampler=val_sampler)\n"
      ],
      "execution_count": 0,
      "outputs": []
    },
    {
      "cell_type": "code",
      "metadata": {
        "id": "nwk_NXpQ_5FD",
        "colab_type": "code",
        "colab": {
          "base_uri": "https://localhost:8080/",
          "height": 330
        },
        "outputId": "7f160d4e-893d-4362-b81d-26e2ed61268e"
      },
      "source": [
        "#Defining model\n",
        "#nn.Linear except each training examle to be a vector ,each1*28*28 image \n",
        "#tensor need to be flattened out into a vector of size 28*28 before passing into the model\n",
        "\n",
        "#output of each image is vector oh size 10,with each element signified\n",
        "#thethe probability target label(0-9) .The predictioed ;abel for an image is simple one with\n",
        "#the highest probability\n",
        "import torch.nn as nn\n",
        "input_size=28*28#getting a vector or 28*28 pixel\n",
        "num_classes=10#there are 10 output \n",
        "#Logistics regression model\n",
        "model=nn.Linear(input_size,num_classes)\n",
        "\n",
        "print(model.weight.shape)\n",
        "print(model.weight)\n",
        "\n",
        "print(model.bias.shape)\n",
        "print(model.bias)\n",
        "\n",
        "print(model.bias.shape)\n",
        "print(model.bias)"
      ],
      "execution_count": 44,
      "outputs": [
        {
          "output_type": "stream",
          "text": [
            "torch.Size([10, 784])\n",
            "Parameter containing:\n",
            "tensor([[-0.0106,  0.0350,  0.0016,  ..., -0.0197,  0.0168, -0.0016],\n",
            "        [-0.0132, -0.0345, -0.0058,  ...,  0.0143, -0.0052, -0.0237],\n",
            "        [ 0.0346, -0.0301,  0.0295,  ..., -0.0262,  0.0050,  0.0262],\n",
            "        ...,\n",
            "        [ 0.0029,  0.0159,  0.0186,  ..., -0.0169, -0.0231,  0.0007],\n",
            "        [ 0.0009, -0.0215, -0.0099,  ...,  0.0225, -0.0214,  0.0084],\n",
            "        [-0.0313,  0.0061,  0.0300,  ...,  0.0185, -0.0013,  0.0248]],\n",
            "       requires_grad=True)\n",
            "torch.Size([10])\n",
            "Parameter containing:\n",
            "tensor([ 0.0193,  0.0347,  0.0349,  0.0341, -0.0125, -0.0025, -0.0096,  0.0143,\n",
            "        -0.0284,  0.0203], requires_grad=True)\n",
            "torch.Size([10])\n",
            "Parameter containing:\n",
            "tensor([ 0.0193,  0.0347,  0.0349,  0.0341, -0.0125, -0.0025, -0.0096,  0.0143,\n",
            "        -0.0284,  0.0203], requires_grad=True)\n"
          ],
          "name": "stdout"
        }
      ]
    },
    {
      "cell_type": "code",
      "metadata": {
        "id": "SWHG3Gg2_7w0",
        "colab_type": "code",
        "colab": {}
      },
      "source": [
        "#reshape method of a tensor which will allow us to efficiently 'view' each image as a flat vector ,without reallychanging the underlying data\n",
        "#give as error\n",
        "# for images,labels in train_loader:\n",
        "#     print(labels)\n",
        "#     print(images.shape)\n",
        "#     outputs=model(images)\n",
        "#     break\n",
        "    "
      ],
      "execution_count": 0,
      "outputs": []
    },
    {
      "cell_type": "code",
      "metadata": {
        "id": "iDtHe0Y1AKMn",
        "colab_type": "code",
        "colab": {}
      },
      "source": [
        "class MnistModel(nn.Module):\n",
        "    def __init__(self):\n",
        "        super().__init__()\n",
        "        self.linear = nn.Linear(input_size, num_classes)\n",
        "        \n",
        "    def forward(self, xb):\n",
        "        xb = xb.reshape(-1, 784)\n",
        "        out = self.linear(xb)\n",
        "        return out\n",
        "    \n",
        "model = MnistModel()"
      ],
      "execution_count": 0,
      "outputs": []
    },
    {
      "cell_type": "code",
      "metadata": {
        "id": "hgPMyzemAwXP",
        "colab_type": "code",
        "colab": {
          "base_uri": "https://localhost:8080/",
          "height": 243
        },
        "outputId": "9202e032-339e-4620-943d-a562b8d3270b"
      },
      "source": [
        "print(model.linear.weight.shape)\n",
        "print(list(model.parameters()))"
      ],
      "execution_count": 49,
      "outputs": [
        {
          "output_type": "stream",
          "text": [
            "torch.Size([10, 784])\n",
            "[Parameter containing:\n",
            "tensor([[-0.0228,  0.0002,  0.0278,  ...,  0.0053, -0.0210,  0.0251],\n",
            "        [-0.0345,  0.0139,  0.0255,  ...,  0.0063, -0.0267, -0.0348],\n",
            "        [ 0.0010,  0.0158,  0.0269,  ...,  0.0204, -0.0193, -0.0344],\n",
            "        ...,\n",
            "        [ 0.0012, -0.0046,  0.0224,  ...,  0.0339,  0.0330,  0.0010],\n",
            "        [-0.0321,  0.0034,  0.0279,  ...,  0.0196,  0.0244, -0.0028],\n",
            "        [-0.0142, -0.0224,  0.0268,  ...,  0.0331, -0.0322, -0.0340]],\n",
            "       requires_grad=True), Parameter containing:\n",
            "tensor([-1.2442e-06,  1.4036e-02, -4.4941e-03, -1.0189e-02,  9.8048e-03,\n",
            "         2.7866e-02,  1.1330e-02, -3.4263e-02,  3.1835e-02, -2.2181e-02],\n",
            "       requires_grad=True)]\n"
          ],
          "name": "stdout"
        }
      ]
    },
    {
      "cell_type": "code",
      "metadata": {
        "id": "QsT-hWJaA0FR",
        "colab_type": "code",
        "colab": {
          "base_uri": "https://localhost:8080/",
          "height": 121
        },
        "outputId": "9e7ab239-ba1e-4691-b87e-6fad05171df7"
      },
      "source": [
        "for images,labels in train_loader:\n",
        "    outputs=model(images)\n",
        "    break\n",
        "print('outputs.shape:',outputs.shape)\n",
        "print('Sample output:\\n',outputs[:2].data)"
      ],
      "execution_count": 50,
      "outputs": [
        {
          "output_type": "stream",
          "text": [
            "outputs.shape: torch.Size([100, 10])\n",
            "Sample output:\n",
            " tensor([[ 0.0924, -0.2216,  0.3231,  0.0358, -0.0206,  0.0951, -0.1252,  0.0347,\n",
            "         -0.0209,  0.1723],\n",
            "        [ 0.1111,  0.0018,  0.2093,  0.0983, -0.0155,  0.0831, -0.1144,  0.0617,\n",
            "         -0.0097, -0.0593]])\n"
          ],
          "name": "stdout"
        }
      ]
    },
    {
      "cell_type": "code",
      "metadata": {
        "id": "_M5AJhj6A4Kr",
        "colab_type": "code",
        "colab": {
          "base_uri": "https://localhost:8080/",
          "height": 121
        },
        "outputId": "dcec7f03-8209-4395-914d-a53296881fd9"
      },
      "source": [
        "#softmax function get output and givide the probability into \n",
        "#using e to power y\n",
        "import torch.nn.functional as F\n",
        "#specify a dimension along which the softmax must be applied\n",
        "\n",
        "#Apply softmax for each output row\n",
        "probs =F.softmax(outputs,dim=1)\n",
        "\n",
        "#Look at sample probabilities\n",
        "print(\"Sample probabilities:\\n\",probs[:2].data)\n",
        "\n",
        "\n",
        "#Add up the probabilities of an output row\n",
        "print(\"sum:\",torch.sum(probs[1]).item())"
      ],
      "execution_count": 52,
      "outputs": [
        {
          "output_type": "stream",
          "text": [
            "Sample probabilities:\n",
            " tensor([[0.1047, 0.0765, 0.1318, 0.0989, 0.0935, 0.1049, 0.0842, 0.0988, 0.0934,\n",
            "         0.1134],\n",
            "        [0.1073, 0.0962, 0.1184, 0.1059, 0.0945, 0.1043, 0.0856, 0.1021, 0.0951,\n",
            "         0.0905]])\n",
            "sum: 1.0\n"
          ],
          "name": "stdout"
        }
      ]
    },
    {
      "cell_type": "code",
      "metadata": {
        "id": "C0LtI1JsBGpS",
        "colab_type": "code",
        "colab": {
          "base_uri": "https://localhost:8080/",
          "height": 399
        },
        "outputId": "b98be231-96fa-4667-8601-be88c86e2209"
      },
      "source": [
        "#Finally determine the prediction label for each image by simple\n",
        "max_probs,preds=torch.max(probs,dim=1)\n",
        "print(preds)\n",
        "print(max_probs)\n",
        "#compare with actual label\n",
        "print(labels) #it will be very different because random weight and baise\n"
      ],
      "execution_count": 55,
      "outputs": [
        {
          "output_type": "stream",
          "text": [
            "tensor([2, 2, 2, 4, 5, 8, 8, 7, 4, 8, 2, 9, 8, 4, 2, 8, 8, 4, 2, 2, 5, 4, 8, 2,\n",
            "        7, 9, 2, 2, 8, 8, 4, 8, 8, 0, 0, 2, 8, 2, 8, 8, 0, 5, 8, 2, 2, 8, 2, 8,\n",
            "        2, 2, 2, 8, 5, 2, 2, 4, 2, 2, 4, 8, 2, 2, 0, 4, 4, 2, 4, 2, 2, 2, 5, 8,\n",
            "        8, 2, 0, 8, 3, 2, 8, 5, 8, 8, 2, 4, 2, 4, 8, 8, 8, 4, 0, 8, 0, 4, 4, 8,\n",
            "        8, 1, 8, 2])\n",
            "tensor([0.1318, 0.1184, 0.1199, 0.1542, 0.1271, 0.1446, 0.1319, 0.1174, 0.1341,\n",
            "        0.1196, 0.1242, 0.1428, 0.1470, 0.1421, 0.1229, 0.1458, 0.1513, 0.1264,\n",
            "        0.1705, 0.1296, 0.1189, 0.1309, 0.1311, 0.1296, 0.1112, 0.1195, 0.1351,\n",
            "        0.1199, 0.1625, 0.1150, 0.1363, 0.1432, 0.1490, 0.1340, 0.1360, 0.1653,\n",
            "        0.1287, 0.1188, 0.1747, 0.1181, 0.1198, 0.1259, 0.1585, 0.1514, 0.1275,\n",
            "        0.1302, 0.1309, 0.1510, 0.1377, 0.1317, 0.1559, 0.1569, 0.1282, 0.1520,\n",
            "        0.1490, 0.1359, 0.1544, 0.1223, 0.1280, 0.1472, 0.1151, 0.1577, 0.1131,\n",
            "        0.1160, 0.1552, 0.1298, 0.1495, 0.1333, 0.1517, 0.1475, 0.1382, 0.1365,\n",
            "        0.1308, 0.1538, 0.1320, 0.1517, 0.1298, 0.1383, 0.1258, 0.1282, 0.1251,\n",
            "        0.1426, 0.1636, 0.1175, 0.1440, 0.1278, 0.1205, 0.1627, 0.1232, 0.1414,\n",
            "        0.1189, 0.1477, 0.1209, 0.1115, 0.1411, 0.1401, 0.1221, 0.1155, 0.1327,\n",
            "        0.1272], grad_fn=<MaxBackward0>)\n",
            "tensor([1, 8, 5, 4, 6, 7, 2, 6, 3, 8, 1, 5, 0, 4, 8, 6, 6, 7, 6, 8, 3, 3, 6, 9,\n",
            "        1, 5, 5, 0, 2, 1, 7, 3, 3, 2, 2, 2, 6, 9, 2, 5, 8, 8, 6, 6, 0, 4, 8, 3,\n",
            "        6, 6, 2, 2, 6, 6, 6, 4, 4, 9, 8, 2, 7, 6, 1, 7, 9, 4, 9, 8, 6, 5, 0, 3,\n",
            "        4, 2, 7, 5, 1, 8, 1, 8, 9, 4, 5, 1, 7, 4, 1, 0, 5, 7, 8, 6, 1, 3, 3, 6,\n",
            "        7, 8, 7, 1])\n"
          ],
          "name": "stdout"
        }
      ]
    },
    {
      "cell_type": "code",
      "metadata": {
        "id": "Ji4lUMtrBaVi",
        "colab_type": "code",
        "colab": {
          "base_uri": "https://localhost:8080/",
          "height": 34
        },
        "outputId": "39001395-4894-4eda-da95-3256ee5fe0ed"
      },
      "source": [
        "#Evaluation Metric and Loss Function\n",
        "def accuracy(loss1,loss2):\n",
        "    return torch.sum(loss1==loss2).item()/len(loss1)\n",
        "\n",
        "print(torch.sum(label==preds).item()/len(labels))"
      ],
      "execution_count": 58,
      "outputs": [
        {
          "output_type": "stream",
          "text": [
            "0.06\n"
          ],
          "name": "stdout"
        }
      ]
    },
    {
      "cell_type": "code",
      "metadata": {
        "id": "Ev0jjJQrCCGC",
        "colab_type": "code",
        "colab": {
          "base_uri": "https://localhost:8080/",
          "height": 34
        },
        "outputId": "8ef9ff10-ede1-4928-b410-e296b1c5711e"
      },
      "source": [
        "print(accuracy(preds,labels))"
      ],
      "execution_count": 59,
      "outputs": [
        {
          "output_type": "stream",
          "text": [
            "0.08\n"
          ],
          "name": "stdout"
        }
      ]
    },
    {
      "cell_type": "code",
      "metadata": {
        "id": "Dz8EHLFdCOwn",
        "colab_type": "code",
        "colab": {
          "base_uri": "https://localhost:8080/",
          "height": 34
        },
        "outputId": "ed5793b6-f69d-4a8c-bcca-616aac7c9036"
      },
      "source": [
        "#Cross Entrophy(continuous and diferential) -sum of yi*log(predicted probability)\n",
        "##we cannot use ==,torch.max for differential to get at final result\n",
        "#we can do convert label into vector and also actual target probability value into vector\n",
        "#by takiing the log to actual probability we can find the best\n",
        "#[0,0,0,1,0,0,0,0,0,0,0,0,]\n",
        "#[0.11000,0.220552,0.1000000,0.000023,0.15545,0.11213]\n",
        "#(-ve)math.log(0.000023)#log to make smaller to much low and high value too mush high\n",
        "#we donot care for rest value so, by multiplying with 0 we get zero value\n",
        "\n",
        "loss_fn=F.cross_entropy\n",
        "#loss for current batch of data\n",
        "loss=loss_fn(outputs,labels)\n",
        "print(loss)\n",
        "#cross entropy is the negative algorithm of the predicted probability of the correct label\n",
        "#averaged over all training sample ,one way to interpret the resulting number.Eg2.23 E^2.23=0.1 which mean (10% as the predicted \n",
        "#probability lower the loss better the model)\n"
      ],
      "execution_count": 61,
      "outputs": [
        {
          "output_type": "stream",
          "text": [
            "tensor(2.3140, grad_fn=<NllLossBackward>)\n"
          ],
          "name": "stdout"
        }
      ]
    },
    {
      "cell_type": "code",
      "metadata": {
        "id": "4f2h8dFXCbtv",
        "colab_type": "code",
        "colab": {}
      },
      "source": [
        "\n",
        "#optimizer (updating the weight and baise during trainingwith higher rate of le-3 \n",
        "#addding  output with proportinate of output )\n",
        "learning_rate=0.001\n",
        "optimizer=torch.optim.SGD(model.parameters(),lr=learning_rate)\n"
      ],
      "execution_count": 0,
      "outputs": []
    },
    {
      "cell_type": "code",
      "metadata": {
        "id": "KoEZ_WJRCSr-",
        "colab_type": "code",
        "colab": {}
      },
      "source": [
        "#trining the model\n",
        "def loss_batch(model,loss_func,xb,yb,opt=None,metric=None):\n",
        "    #Calculate the loss\n",
        "    preds=model(xb)\n",
        "    \n",
        "    loss=loss_func(preds,yb)\n",
        "    if opt is not None:\n",
        "        #Compute gradients\n",
        "        loss.backward()\n",
        "        #update parameters\n",
        "        opt.step()\n",
        "        #Reset gradients\n",
        "        opt.zero_grad()\n",
        "    metric_result=None\n",
        "    if metric is not None:\n",
        "        metric_result=metric(preds,yb)       \n",
        "    return loss.item(),len(xb),metric_result "
      ],
      "execution_count": 0,
      "outputs": []
    },
    {
      "cell_type": "code",
      "metadata": {
        "id": "JbVRtw3zCh5Z",
        "colab_type": "code",
        "colab": {}
      },
      "source": [
        "#Calculate the overall loss and accuracy\n",
        "def evaluate(model,loss_fn,valid_dl,metric=None):\n",
        "    with torch.no_grad():\n",
        "        #passing each batch through the model\n",
        "        results=[loss_batch(model,loss_fn,xb,yb,metric=metric)\n",
        "                for xb,yb in valid_dl]\n",
        "        #Seprate losses,counts and metrics\n",
        "        losses,nums,metrics=zip(*results)\n",
        "        #Total size fo the dataset\n",
        "        total =np.sum(nums)\n",
        "      \n",
        "        #Avg loss across batches\n",
        "        avg_loss=np.sum(np.multiply(losses,nums))/total\n",
        "        avg_metric=None\n",
        "        if metric is not None:\n",
        "            #Avg of metric across batches\n",
        "            avg_metric=np.sum(np.multiply(metrics,nums))/total\n",
        "    return avg_loss,total,avg_metric"
      ],
      "execution_count": 0,
      "outputs": []
    },
    {
      "cell_type": "code",
      "metadata": {
        "id": "Y8GN3cmHC0eT",
        "colab_type": "code",
        "colab": {
          "base_uri": "https://localhost:8080/",
          "height": 34
        },
        "outputId": "548a6031-1f73-4da1-cb33-80f176e341b0"
      },
      "source": [
        "\n",
        "#redifine accuracy to operate on an entire batch of outputdirectly\n",
        "#so that we can use it as an metric in fit\n",
        "\n",
        "def accuracy(outputs,labels):\n",
        "    _,preds=torch.max(outputs,dim=1)\n",
        "    return torch.sum(preds==labels).item()/len(preds)\n",
        "\n",
        "\n",
        "\n",
        "val_loss, total, val_acc = evaluate(model, loss_fn, val_loader, metric=accuracy)\n",
        "print('Loss: {:.4f}, Accuracy: {:.4f}'.format(val_loss, val_acc))\n",
        "\n",
        "def fit(epochs, model, loss_fn, opt, train_dl, valid_dl, metric=None):\n",
        "    for epoch in range(epochs):\n",
        "        # Training\n",
        "        for xb,yb in train_dl:\n",
        "            loss,_,_ = loss_batch(model, loss_fn, xb, yb, opt)\n",
        "\n",
        "        # Evaluation\n",
        "        result = evaluate(model, loss_fn, valid_dl, metric)\n",
        "        val_loss, total, val_metric = result\n",
        "        \n",
        "        # Print progress\n",
        "        if metric is None:\n",
        "            print('Epoch [{}/{}], Loss: {:.4f}'\n",
        "                  .format(epoch+1, epochs, val_loss))\n",
        "        else:\n",
        "            print('Epoch [{}/{}], Loss: {:.4f}, {}: {:.4f}'\n",
        "                  .format(epoch+1, epochs, val_loss, metric.__name__, val_metric))\n",
        "   "
      ],
      "execution_count": 70,
      "outputs": [
        {
          "output_type": "stream",
          "text": [
            "Loss: 2.2809, Accuracy: 0.1447\n"
          ],
          "name": "stdout"
        }
      ]
    },
    {
      "cell_type": "code",
      "metadata": {
        "id": "yrfsD8CbDd9y",
        "colab_type": "code",
        "colab": {
          "base_uri": "https://localhost:8080/",
          "height": 364
        },
        "outputId": "848b8d83-6456-4f05-93b8-212f509f1e6b"
      },
      "source": [
        "#Redefine model and optimizer\n",
        "model=MnistModel()\n",
        "optimizer=torch.optim.SGD(model.parameters(),lr=learning_rate)\n",
        "fit(5,model,F.cross_entropy,optimizer,train_loader,val_loader,accuracy)\n",
        "\n",
        "fit(5,model,F.cross_entropy,optimizer,train_loader,val_loader,accuracy)\n",
        "fit(5,model,F.cross_entropy,optimizer,train_loader,val_loader,accuracy)\n",
        "fit(5,model,F.cross_entropy,optimizer,train_loader,val_loader,accuracy)"
      ],
      "execution_count": 72,
      "outputs": [
        {
          "output_type": "stream",
          "text": [
            "Epoch [1/5], Loss: 1.8563, accuracy: 0.6594\n",
            "Epoch [2/5], Loss: 1.5619, accuracy: 0.7391\n",
            "Epoch [3/5], Loss: 1.3552, accuracy: 0.7710\n",
            "Epoch [4/5], Loss: 1.2065, accuracy: 0.7927\n",
            "Epoch [5/5], Loss: 1.0959, accuracy: 0.8059\n",
            "Epoch [1/5], Loss: 1.0110, accuracy: 0.8148\n",
            "Epoch [2/5], Loss: 0.9438, accuracy: 0.8213\n",
            "Epoch [3/5], Loss: 0.8895, accuracy: 0.8269\n",
            "Epoch [4/5], Loss: 0.8446, accuracy: 0.8317\n",
            "Epoch [5/5], Loss: 0.8069, accuracy: 0.8357\n",
            "Epoch [1/5], Loss: 0.7747, accuracy: 0.8403\n",
            "Epoch [2/5], Loss: 0.7469, accuracy: 0.8441\n",
            "Epoch [3/5], Loss: 0.7226, accuracy: 0.8472\n",
            "Epoch [4/5], Loss: 0.7011, accuracy: 0.8497\n",
            "Epoch [5/5], Loss: 0.6820, accuracy: 0.8520\n",
            "Epoch [1/5], Loss: 0.6650, accuracy: 0.8538\n",
            "Epoch [2/5], Loss: 0.6496, accuracy: 0.8551\n",
            "Epoch [3/5], Loss: 0.6356, accuracy: 0.8569\n",
            "Epoch [4/5], Loss: 0.6229, accuracy: 0.8587\n",
            "Epoch [5/5], Loss: 0.6112, accuracy: 0.8612\n"
          ],
          "name": "stdout"
        }
      ]
    },
    {
      "cell_type": "code",
      "metadata": {
        "id": "5nnyXcLEHH0G",
        "colab_type": "code",
        "colab": {
          "base_uri": "https://localhost:8080/",
          "height": 295
        },
        "outputId": "fbb174db-e0a3-433b-de98-3570cd3ba178"
      },
      "source": [
        "#this is a linear realationship model(logistic-regression) \n",
        "accuracies=[0.6594,0.7391,0.7710,0.8059,0.8403,0.8441,0.8551,0.8569,0.8587,0.8612]\n",
        "plt.plot(accuracies,'-x')\n",
        "plt.xlabel('epoch')\n",
        "plt.ylabel('accuracy')\n",
        "plt.title('Acuracy vs no. of epochs:');"
      ],
      "execution_count": 77,
      "outputs": [
        {
          "output_type": "display_data",
          "data": {
            "image/png": "[encoded data removed]",
            "text/plain": [
              "<Figure size 432x288 with 1 Axes>"
            ]
          },
          "metadata": {
            "tags": [],
            "needs_background": "light"
          }
        }
      ]
    },
    {
      "cell_type": "code",
      "metadata": {
        "id": "-uq7FGefHuaM",
        "colab_type": "code",
        "colab": {
          "base_uri": "https://localhost:8080/",
          "height": 300
        },
        "outputId": "414d803b-37ea-4ef2-abe1-94aa0295e1c8"
      },
      "source": [
        "#Testing the datset\n",
        "test_dataset=MNIST(root='data/',train=False,transform=transforms.ToTensor())\n",
        "img,label=test_dataset[8]\n",
        "plt.imshow(img[0],cmap='gray')\n",
        "print('shape:',img.shape)\n",
        "print('label:',label)\n",
        "#conver into batch of one image in zero dimension 28*28\n",
        "#img.unsqueeze(0).shape"
      ],
      "execution_count": 92,
      "outputs": [
        {
          "output_type": "stream",
          "text": [
            "shape: torch.Size([1, 28, 28])\n",
            "label: 5\n"
          ],
          "name": "stdout"
        },
        {
          "output_type": "display_data",
          "data": {
            "image/png": "[encoded data removed]",
            "text/plain": [
              "<Figure size 432x288 with 1 Axes>"
            ]
          },
          "metadata": {
            "tags": [],
            "needs_background": "light"
          }
        }
      ]
    },
    {
      "cell_type": "code",
      "metadata": {
        "id": "zO5ObxozI7KK",
        "colab_type": "code",
        "colab": {
          "base_uri": "https://localhost:8080/",
          "height": 34
        },
        "outputId": "a23d0003-5259-4d8b-e8ab-5a78e2d74a18"
      },
      "source": [
        "#convert into batch of one image in zero dimension 28*28\n",
        "img.unsqueeze(0).shape"
      ],
      "execution_count": 93,
      "outputs": [
        {
          "output_type": "execute_result",
          "data": {
            "text/plain": [
              "torch.Size([1, 1, 28, 28])"
            ]
          },
          "metadata": {
            "tags": []
          },
          "execution_count": 93
        }
      ]
    },
    {
      "cell_type": "code",
      "metadata": {
        "id": "1HHYDJj5JBeV",
        "colab_type": "code",
        "colab": {}
      },
      "source": [
        "def predict_image(img,model):\n",
        "    xb=img.unsqueeze(0)\n",
        "    yb=model(xb)\n",
        "    _,preds=torch.max(yb,dim=1)\n",
        "    return preds[0].item()\n"
      ],
      "execution_count": 0,
      "outputs": []
    },
    {
      "cell_type": "code",
      "metadata": {
        "id": "IqWNY3_mJFR3",
        "colab_type": "code",
        "colab": {
          "base_uri": "https://localhost:8080/",
          "height": 282
        },
        "outputId": "bb7e66dc-ffca-4ff7-d450-2b779cc5d7ef"
      },
      "source": [
        "img,label=test=test_dataset[184]\n",
        "plt.imshow(img[0],cmap='gray')\n",
        "print('Label:',label,'Predicted:',predict_image(img,model))"
      ],
      "execution_count": 99,
      "outputs": [
        {
          "output_type": "stream",
          "text": [
            "Label: 8 Predicted: 3\n"
          ],
          "name": "stdout"
        },
        {
          "output_type": "display_data",
          "data": {
            "image/png": "[encoded data removed]",
            "text/plain": [
              "<Figure size 432x288 with 1 Axes>"
            ]
          },
          "metadata": {
            "tags": [],
            "needs_background": "light"
          }
        }
      ]
    },
    {
      "cell_type": "code",
      "metadata": {
        "id": "FZROHXnUJhFr",
        "colab_type": "code",
        "colab": {
          "base_uri": "https://localhost:8080/",
          "height": 208
        },
        "outputId": "de61e1f9-6584-4079-8ab2-6b7f72af77ee"
      },
      "source": [
        "#Saving and Loading the model\n",
        "torch.save(model.state_dict(),'mnist-logistic.pth')\n",
        "model.state_dict()\n"
      ],
      "execution_count": 101,
      "outputs": [
        {
          "output_type": "execute_result",
          "data": {
            "text/plain": [
              "OrderedDict([('linear.weight',\n",
              "              tensor([[-0.0313,  0.0106,  0.0030,  ..., -0.0181,  0.0326, -0.0067],\n",
              "                      [-0.0213, -0.0146,  0.0254,  ...,  0.0137, -0.0343, -0.0183],\n",
              "                      [ 0.0219, -0.0074, -0.0079,  ...,  0.0165, -0.0313,  0.0149],\n",
              "                      ...,\n",
              "                      [-0.0298, -0.0006, -0.0015,  ...,  0.0153,  0.0114,  0.0017],\n",
              "                      [-0.0254, -0.0042, -0.0044,  ..., -0.0212,  0.0137,  0.0017],\n",
              "                      [-0.0318,  0.0169,  0.0291,  ..., -0.0196,  0.0027, -0.0101]])),\n",
              "             ('linear.bias',\n",
              "              tensor([-0.0820,  0.0687, -0.0431, -0.0168,  0.0030,  0.0454,  0.0060,  0.0765,\n",
              "                      -0.0797,  0.0235]))])"
            ]
          },
          "metadata": {
            "tags": []
          },
          "execution_count": 101
        }
      ]
    },
    {
      "cell_type": "code",
      "metadata": {
        "id": "f8US0l3UJ2Mv",
        "colab_type": "code",
        "colab": {
          "base_uri": "https://localhost:8080/",
          "height": 208
        },
        "outputId": "c88a4fc7-237c-45b4-c677-3da382f28c0f"
      },
      "source": [
        "#to load the model\n",
        "#.load_state_dict\n",
        "\n",
        "model2 = MnistModel()\n",
        "model2.load_state_dict(torch.load('mnist-logistic.pth'))\n",
        "model2.state_dict()"
      ],
      "execution_count": 104,
      "outputs": [
        {
          "output_type": "execute_result",
          "data": {
            "text/plain": [
              "OrderedDict([('linear.weight',\n",
              "              tensor([[-0.0313,  0.0106,  0.0030,  ..., -0.0181,  0.0326, -0.0067],\n",
              "                      [-0.0213, -0.0146,  0.0254,  ...,  0.0137, -0.0343, -0.0183],\n",
              "                      [ 0.0219, -0.0074, -0.0079,  ...,  0.0165, -0.0313,  0.0149],\n",
              "                      ...,\n",
              "                      [-0.0298, -0.0006, -0.0015,  ...,  0.0153,  0.0114,  0.0017],\n",
              "                      [-0.0254, -0.0042, -0.0044,  ..., -0.0212,  0.0137,  0.0017],\n",
              "                      [-0.0318,  0.0169,  0.0291,  ..., -0.0196,  0.0027, -0.0101]])),\n",
              "             ('linear.bias',\n",
              "              tensor([-0.0820,  0.0687, -0.0431, -0.0168,  0.0030,  0.0454,  0.0060,  0.0765,\n",
              "                      -0.0797,  0.0235]))])"
            ]
          },
          "metadata": {
            "tags": []
          },
          "execution_count": 104
        }
      ]
    },
    {
      "cell_type": "code",
      "metadata": {
        "id": "cEu1nWGaJ9TY",
        "colab_type": "code",
        "colab": {
          "base_uri": "https://localhost:8080/",
          "height": 52
        },
        "outputId": "cd375e52-4460-4e33-a421-4e46bbdad028"
      },
      "source": [
        "test_loader = DataLoader(test_dataset, batch_size=200)\n",
        "\n",
        "test_loss, total, test_acc = evaluate(model, loss_fn, test_loader, metric=accuracy)\n",
        "print('Loss: {:.4f}, Accuracy: {:.4f}'.format(test_loss, test_acc))\n"
      ],
      "execution_count": 107,
      "outputs": [
        {
          "output_type": "stream",
          "text": [
            "Loss: 0.5963, Accuracy: 0.8682\n",
            "Loss: 0.5963, Accuracy: 0.8682\n"
          ],
          "name": "stdout"
        }
      ]
    }
  ]
}