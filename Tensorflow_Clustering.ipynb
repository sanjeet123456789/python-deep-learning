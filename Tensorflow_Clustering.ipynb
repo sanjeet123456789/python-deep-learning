{
  "nbformat": 4,
  "nbformat_minor": 0,
  "metadata": {
    "colab": {
      "name": "Tensorflow_Clustering.ipynb",
      "provenance": [],
      "collapsed_sections": [],
      "authorship_tag": "ABX9TyMcKclM6VupZQo3dfmA8qoL",
      "include_colab_link": true
    },
    "kernelspec": {
      "name": "python3",
      "display_name": "Python 3"
    }
  },
  "cells": [
    {
      "cell_type": "markdown",
      "metadata": {
        "id": "view-in-github",
        "colab_type": "text"
      },
      "source": [
        "<a href=\"https://colab.research.google.com/github/sanjeet123456789/python-deep-learning/blob/master/Tensorflow_Clustering.ipynb\" target=\"_parent\"><img src=\"https://colab.research.google.com/assets/colab-badge.svg\" alt=\"Open In Colab\"/></a>"
      ]
    },
    {
      "cell_type": "markdown",
      "metadata": {
        "id": "A_Y4VNXKhWAt",
        "colab_type": "text"
      },
      "source": [
        "Basis Algorithm for k-Means\n",
        "\n",
        "step 1:Randomly pick K point to place K centroid\n",
        "\n",
        "step 2:Assign all of the data points to the centroid by distance\n",
        "\n",
        "step 3: Average all of the points beloging to each centroid to find the middle of those clusters( centeroid into the position)\n",
        "\n",
        "step 4:Reassign every point once again to the closest centroid\n",
        "\n",
        "step 5: Repeat step 3 3-4 until no point changes which centroid it beloging to\n"
      ]
    },
    {
      "cell_type": "markdown",
      "metadata": {
        "id": "HWyfLdjsnp5J",
        "colab_type": "text"
      },
      "source": [
        "Hidden Markov model\n",
        "\n",
        "The Hidden Markov Model is a finite set of states,each of which is associated with a probability Distibution\n",
        "\n",
        "we didn't look at state but insteat we look at observation Distribution and Transition Distribution\n",
        "\n",
        "states (red,green,blue)\n",
        "observation(result like likely rain,mostly chance of rain)\n",
        "Transition percentageof chances of going from one state to another\n",
        "rainy to sunny rise in temp\n"
      ]
    },
    {
      "cell_type": "code",
      "metadata": {
        "id": "T7Qs9IO1n_e_",
        "colab_type": "code",
        "colab": {}
      },
      "source": [
        "%tensorflow_version 2.x"
      ],
      "execution_count": 0,
      "outputs": []
    },
    {
      "cell_type": "code",
      "metadata": {
        "id": "deuQvmZtv0RX",
        "colab_type": "code",
        "colab": {}
      },
      "source": [
        "!pip install -q --user --upgrade tfp-nightly"
      ],
      "execution_count": 0,
      "outputs": []
    },
    {
      "cell_type": "code",
      "metadata": {
        "id": "9hUmGQhMo5_7",
        "colab_type": "code",
        "colab": {}
      },
      "source": [
        "import tensorflow_probability as tfp\n",
        "import tensorflow as tf\n"
      ],
      "execution_count": 0,
      "outputs": []
    },
    {
      "cell_type": "markdown",
      "metadata": {
        "id": "x9cm5b8VpCul",
        "colab_type": "text"
      },
      "source": [
        "#Weather Model\n",
        "1. Cold day are encoded bya 0 and hot day are encoded by 1 \n",
        "2. The first day in our sequence has an 80% chances of beign clod\n",
        "3.A cold has a 30% chance of beign followed by ahot day\n",
        "\n",
        "4.A hot day has  a 20% chance of beign followed bya cold day\n",
        "\n",
        "5.On each day the temprature is normally distributed with mean and standard deviation 0 and 5 on a cold day and mean and standard deviation 15 and 10 on a hot day\n",
        "\n",
        "\n",
        "\n"
      ]
    },
    {
      "cell_type": "code",
      "metadata": {
        "id": "H8P66JRrtO1q",
        "colab_type": "code",
        "colab": {}
      },
      "source": [
        "tfd=tfp.distributions\n",
        "initial_distribution=tfd.Categorical(probs=[0.8,0.2])#refer to point 2 above\n",
        "transition_distribution=tfd.Categorical(probs=[[0.7,0.3],[0.2,0.8]])#refer to three and above\n",
        "observation_distribution=tfd.Normal(loc=[0.,15.],scale=[5.,10.])\n",
        "#the loc argument represent the mean and the scale is the standard deviation\n",
        "\n"
      ],
      "execution_count": 0,
      "outputs": []
    },
    {
      "cell_type": "code",
      "metadata": {
        "id": "Cn_zcEK7tRt8",
        "colab_type": "code",
        "colab": {}
      },
      "source": [
        "model=tfd.HiddenMarkovModel(\n",
        "    initial_distribution=initial_distribution,\n",
        "    transition_distribution=transition_distribution,\n",
        "    observation_distribution=observation_distribution,\n",
        "    num_steps=7\n",
        ")"
      ],
      "execution_count": 0,
      "outputs": []
    },
    {
      "cell_type": "code",
      "metadata": {
        "id": "INSDmPAAve0T",
        "colab_type": "code",
        "outputId": "9edccedd-84d9-4a42-fb0e-b0c56d81f93a",
        "colab": {
          "base_uri": "https://localhost:8080/",
          "height": 34
        }
      },
      "source": [
        "mean=model.mean()\n",
        "with tf.compat.v1.Session() as sess:\n",
        "  print(mean.numpy())"
      ],
      "execution_count": 0,
      "outputs": [
        {
          "output_type": "stream",
          "text": [
            "[2.9999998 5.9999995 7.4999995 8.25      8.625001  8.812501  8.90625  ]\n"
          ],
          "name": "stdout"
        }
      ]
    },
    {
      "cell_type": "code",
      "metadata": {
        "id": "Q84R-BzLxx10",
        "colab_type": "code",
        "colab": {}
      },
      "source": [
        ""
      ],
      "execution_count": 0,
      "outputs": []
    },
    {
      "cell_type": "code",
      "metadata": {
        "id": "Ewn5s4zSxKcC",
        "colab_type": "code",
        "colab": {}
      },
      "source": [
        ""
      ],
      "execution_count": 0,
      "outputs": []
    },
    {
      "cell_type": "code",
      "metadata": {
        "id": "t5yQatW_xISq",
        "colab_type": "code",
        "colab": {}
      },
      "source": [
        ""
      ],
      "execution_count": 0,
      "outputs": []
    },
    {
      "cell_type": "code",
      "metadata": {
        "id": "SFpxNgROxE9o",
        "colab_type": "code",
        "colab": {}
      },
      "source": [
        ""
      ],
      "execution_count": 0,
      "outputs": []
    },
    {
      "cell_type": "code",
      "metadata": {
        "id": "kQ3AKccNuTnq",
        "colab_type": "code",
        "colab": {}
      },
      "source": [
        ""
      ],
      "execution_count": 0,
      "outputs": []
    },
    {
      "cell_type": "code",
      "metadata": {
        "id": "O2Jqh9SfuR5d",
        "colab_type": "code",
        "colab": {}
      },
      "source": [
        ""
      ],
      "execution_count": 0,
      "outputs": []
    },
    {
      "cell_type": "code",
      "metadata": {
        "id": "7Yv_yVGOtOrc",
        "colab_type": "code",
        "colab": {}
      },
      "source": [
        ""
      ],
      "execution_count": 0,
      "outputs": []
    }
  ]
}