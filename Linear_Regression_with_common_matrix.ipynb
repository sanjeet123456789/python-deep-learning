{
  "nbformat": 4,
  "nbformat_minor": 0,
  "metadata": {
    "colab": {
      "name": "Linear Regression with common matrix.ipynb",
      "provenance": [],
      "collapsed_sections": [],
      "authorship_tag": "ABX9TyM8gqC3XIhMQ3gGecE6fJO5",
      "include_colab_link": true
    },
    "kernelspec": {
      "name": "python3",
      "display_name": "Python 3"
    }
  },
  "cells": [
    {
      "cell_type": "markdown",
      "metadata": {
        "id": "view-in-github",
        "colab_type": "text"
      },
      "source": [
        "<a href=\"https://colab.research.google.com/github/sanjeet123456789/python-deep-learning/blob/master/Linear_Regression_with_common_matrix.ipynb\" target=\"_parent\"><img src=\"https://colab.research.google.com/assets/colab-badge.svg\" alt=\"Open In Colab\"/></a>"
      ]
    },
    {
      "cell_type": "code",
      "metadata": {
        "id": "xUq_cFQIMeCi",
        "colab_type": "code",
        "colab": {}
      },
      "source": [
        "import numpy as np\n",
        "import torch\n",
        "from math import log\n",
        "#Input temp,rainfall,humidity\n",
        "inputs=np.array([[73,67,43],\n",
        "                 [91,88,64],\n",
        "                 [87,134,58],\n",
        "                [102,43,37],\n",
        "                 [69,96,70]],dtype='float32')\n",
        "\n",
        "targets=np.array([[56,70],[81,101],\n",
        "                 [119,133],\n",
        "                  [22,37],\n",
        "                  [103,119]\n",
        "                  \n",
        "                 ],dtype='float32')"
      ],
      "execution_count": 0,
      "outputs": []
    },
    {
      "cell_type": "code",
      "metadata": {
        "id": "syzlcozOM01G",
        "colab_type": "code",
        "colab": {
          "base_uri": "https://localhost:8080/",
          "height": 191
        },
        "outputId": "f346b345-68ea-4820-8bf4-17e1d4e7547f"
      },
      "source": [
        "#Convert inputand target into tensor\n",
        "inputs=torch.from_numpy(inputs)\n",
        "targets=torch.from_numpy(targets)\n",
        "print(inputs)\n",
        "print(targets)"
      ],
      "execution_count": 28,
      "outputs": [
        {
          "output_type": "stream",
          "text": [
            "tensor([[ 73.,  67.,  43.],\n",
            "        [ 91.,  88.,  64.],\n",
            "        [ 87., 134.,  58.],\n",
            "        [102.,  43.,  37.],\n",
            "        [ 69.,  96.,  70.]])\n",
            "tensor([[ 56.,  70.],\n",
            "        [ 81., 101.],\n",
            "        [119., 133.],\n",
            "        [ 22.,  37.],\n",
            "        [103., 119.]])\n"
          ],
          "name": "stdout"
        }
      ]
    },
    {
      "cell_type": "code",
      "metadata": {
        "id": "FkyeD8feNGyf",
        "colab_type": "code",
        "colab": {
          "base_uri": "https://localhost:8080/",
          "height": 69
        },
        "outputId": "3560d017-5b59-4655-a00f-fa9d96d029bd"
      },
      "source": [
        "#Weights and biases\n",
        "w=torch.randn(2,3,requires_grad=True)\n",
        "b=torch.randn(2,requires_grad=True)\n",
        "print(w)\n",
        "print(b)"
      ],
      "execution_count": 29,
      "outputs": [
        {
          "output_type": "stream",
          "text": [
            "tensor([[-1.9227, -1.4288,  0.5809],\n",
            "        [-0.0312,  0.6042, -0.1182]], requires_grad=True)\n",
            "tensor([-0.6862, -0.1524], requires_grad=True)\n"
          ],
          "name": "stdout"
        }
      ]
    },
    {
      "cell_type": "code",
      "metadata": {
        "id": "BDSjFx0WNHRN",
        "colab_type": "code",
        "colab": {}
      },
      "source": [
        "#processing by multiplying data matrix with weights matrix and adding to the biase matrix\n",
        "def model(x):\n",
        "    return  x @ w.t() + b #@matrix represetion in pytorch\n"
      ],
      "execution_count": 0,
      "outputs": []
    },
    {
      "cell_type": "code",
      "metadata": {
        "id": "tdG4RuGnNHpL",
        "colab_type": "code",
        "colab": {
          "base_uri": "https://localhost:8080/",
          "height": 191
        },
        "outputId": "567fdba4-4139-4f47-95f3-89183e4e4225"
      },
      "source": [
        "#Generating prediction\n",
        "preds= model(inputs)\n",
        "print(preds)\n",
        "\n",
        "#Comparing with targets\n",
        "print(targets)"
      ],
      "execution_count": 31,
      "outputs": [
        {
          "output_type": "stream",
          "text": [
            "tensor([[-211.7916,   32.9676],\n",
            "        [-264.2052,   42.6114],\n",
            "        [-325.7265,   71.2405],\n",
            "        [-236.7422,   18.2701],\n",
            "        [-229.8518,   47.4226]], grad_fn=<AddBackward0>)\n",
            "tensor([[ 56.,  70.],\n",
            "        [ 81., 101.],\n",
            "        [119., 133.],\n",
            "        [ 22.,  37.],\n",
            "        [103., 119.]])\n"
          ],
          "name": "stdout"
        }
      ]
    },
    {
      "cell_type": "code",
      "metadata": {
        "id": "zfsS-H99N8wb",
        "colab_type": "code",
        "colab": {}
      },
      "source": [
        "#Loss function mse(mean square error)\n",
        "def mse(t1,t2):\n",
        "    diff=t1-t2\n",
        "    return torch.sum(diff*diff)/diff.numel()#numel give number of element in diff"
      ],
      "execution_count": 0,
      "outputs": []
    },
    {
      "cell_type": "code",
      "metadata": {
        "id": "HMNvQfLlOFU6",
        "colab_type": "code",
        "colab": {
          "base_uri": "https://localhost:8080/",
          "height": 34
        },
        "outputId": "76b9eb22-6865-4318-9341-04a56ca0cd9e"
      },
      "source": [
        "#Computing loss\n",
        "loss=mse(preds,targets)\n",
        "print(loss)"
      ],
      "execution_count": 33,
      "outputs": [
        {
          "output_type": "stream",
          "text": [
            "tensor(58046.7500, grad_fn=<DivBackward0>)\n"
          ],
          "name": "stdout"
        }
      ]
    },
    {
      "cell_type": "code",
      "metadata": {
        "id": "16TAgTk_ORyC",
        "colab_type": "code",
        "colab": {
          "base_uri": "https://localhost:8080/",
          "height": 121
        },
        "outputId": "c63c8abc-598e-4e73-f198-1d25ef46a939"
      },
      "source": [
        "###########Compute Gradients\n",
        "loss.backward()#required_grad must be true\n",
        "\n",
        "#Gradients for weights\n",
        "print(w)\n",
        "print(w.grad)#for 2*3=6 weight getting the loss asociated with it\n",
        "print(b)\n",
        "print(b.grad)# for 2 baise find the grad associate with it\n"
      ],
      "execution_count": 34,
      "outputs": [
        {
          "output_type": "stream",
          "text": [
            "tensor([[-1.9227, -1.4288,  0.5809],\n",
            "        [-0.0312,  0.6042, -0.1182]], requires_grad=True)\n",
            "tensor([[-27802.4297, -30198.6289, -18455.0801],\n",
            "        [ -4047.8208,  -4714.3936,  -2922.9490]])\n",
            "tensor([-0.6862, -0.1524], requires_grad=True)\n",
            "tensor([-329.8635,  -49.4976])\n"
          ],
          "name": "stdout"
        }
      ]
    },
    {
      "cell_type": "code",
      "metadata": {
        "id": "iw-eIMyLOTNx",
        "colab_type": "code",
        "colab": {
          "base_uri": "https://localhost:8080/",
          "height": 69
        },
        "outputId": "a5605593-fbda-4290-ed83-9580d765c47b"
      },
      "source": [
        "#If a gradient element is positive\n",
        "#->increasing the element's value slightly will increase the loss\n",
        "#->descresing the element's value slightly will descrease the loss\n",
        "\n",
        "#If a grsdient element is negative\n",
        "#->increasing the element's value slightly will descrease the loss\n",
        "#->decresing the element's value slightly will increse the loss\n",
        "\n",
        "#reseting the weight and baise grad with zero\n",
        "w.grad.zero_()\n",
        "b.grad.zero_()\n",
        "print(w.grad)\n",
        "print(b.grad)\n",
        "#Adjust the weight of gradient weight and baise\n",
        "#generate Predictions\n",
        "#Calculate the loss\n",
        "#Compute gradient w.r.t. the weight and baises\n",
        "#adjust the weightby subtractin a small quantity proportional to the gradients\n",
        "# reset the gradient to zero\n"
      ],
      "execution_count": 35,
      "outputs": [
        {
          "output_type": "stream",
          "text": [
            "tensor([[0., 0., 0.],\n",
            "        [0., 0., 0.]])\n",
            "tensor([0., 0.])\n"
          ],
          "name": "stdout"
        }
      ]
    },
    {
      "cell_type": "code",
      "metadata": {
        "id": "fasuHyiGOluQ",
        "colab_type": "code",
        "colab": {
          "base_uri": "https://localhost:8080/",
          "height": 173
        },
        "outputId": "f000fd92-6e72-45e7-b5cb-fa2399dbcb14"
      },
      "source": [
        "\n",
        "\n",
        "#Generate Prediction\n",
        "preds=model(inputs)\n",
        "print(preds)\n",
        "\n",
        "#Calculate the loss\n",
        "loss=mse(preds,targets)\n",
        "print(loss)\n",
        "\n",
        "#compute gradients\n",
        "loss.backward()\n",
        "print(w.grad)\n",
        "print(b.grad)"
      ],
      "execution_count": 36,
      "outputs": [
        {
          "output_type": "stream",
          "text": [
            "tensor([[-211.7916,   32.9676],\n",
            "        [-264.2052,   42.6114],\n",
            "        [-325.7265,   71.2405],\n",
            "        [-236.7422,   18.2701],\n",
            "        [-229.8518,   47.4226]], grad_fn=<AddBackward0>)\n",
            "tensor(58046.7500, grad_fn=<DivBackward0>)\n",
            "tensor([[-27802.4297, -30198.6289, -18455.0801],\n",
            "        [ -4047.8208,  -4714.3936,  -2922.9490]])\n",
            "tensor([-329.8635,  -49.4976])\n"
          ],
          "name": "stdout"
        }
      ]
    },
    {
      "cell_type": "code",
      "metadata": {
        "id": "deDFcq4AOqAQ",
        "colab_type": "code",
        "colab": {
          "base_uri": "https://localhost:8080/",
          "height": 237
        },
        "outputId": "8b699791-469b-4260-ce38-4051c644d0ee"
      },
      "source": [
        "from math import log\n",
        "#Adjust weight &reset gradients\n",
        "with torch.no_grad():\n",
        "    w_ = w.grad * le-5\n",
        "    b_ = b.grad * le-5\n",
        "    w.grad.zero_()\n",
        "    b.grad.zero_()\n",
        "\n",
        "#print new weight\n",
        "print(w)\n",
        "print(b)"
      ],
      "execution_count": 42,
      "outputs": [
        {
          "output_type": "error",
          "ename": "NameError",
          "evalue": "ignored",
          "traceback": [
            "\u001b[0;31m---------------------------------------------------------------------------\u001b[0m",
            "\u001b[0;31mNameError\u001b[0m                                 Traceback (most recent call last)",
            "\u001b[0;32m<ipython-input-42-44388073cbea>\u001b[0m in \u001b[0;36m<module>\u001b[0;34m()\u001b[0m\n\u001b[1;32m      2\u001b[0m \u001b[0;31m#Adjust weight &reset gradients\u001b[0m\u001b[0;34m\u001b[0m\u001b[0;34m\u001b[0m\u001b[0;34m\u001b[0m\u001b[0m\n\u001b[1;32m      3\u001b[0m \u001b[0;32mwith\u001b[0m \u001b[0mtorch\u001b[0m\u001b[0;34m.\u001b[0m\u001b[0mno_grad\u001b[0m\u001b[0;34m(\u001b[0m\u001b[0;34m)\u001b[0m\u001b[0;34m:\u001b[0m\u001b[0;34m\u001b[0m\u001b[0;34m\u001b[0m\u001b[0m\n\u001b[0;32m----> 4\u001b[0;31m     \u001b[0mw_\u001b[0m \u001b[0;34m=\u001b[0m \u001b[0mw\u001b[0m\u001b[0;34m.\u001b[0m\u001b[0mgrad\u001b[0m \u001b[0;34m*\u001b[0m \u001b[0mle\u001b[0m\u001b[0;34m-\u001b[0m\u001b[0;36m5\u001b[0m\u001b[0;34m\u001b[0m\u001b[0;34m\u001b[0m\u001b[0m\n\u001b[0m\u001b[1;32m      5\u001b[0m     \u001b[0mb_\u001b[0m \u001b[0;34m=\u001b[0m \u001b[0mb\u001b[0m\u001b[0;34m.\u001b[0m\u001b[0mgrad\u001b[0m \u001b[0;34m*\u001b[0m \u001b[0mle\u001b[0m\u001b[0;34m-\u001b[0m\u001b[0;36m5\u001b[0m\u001b[0;34m\u001b[0m\u001b[0;34m\u001b[0m\u001b[0m\n\u001b[1;32m      6\u001b[0m     \u001b[0mw\u001b[0m\u001b[0;34m.\u001b[0m\u001b[0mgrad\u001b[0m\u001b[0;34m.\u001b[0m\u001b[0mzero_\u001b[0m\u001b[0;34m(\u001b[0m\u001b[0;34m)\u001b[0m\u001b[0;34m\u001b[0m\u001b[0;34m\u001b[0m\u001b[0m\n",
            "\u001b[0;31mNameError\u001b[0m: name 'le' is not defined"
          ]
        }
      ]
    },
    {
      "cell_type": "code",
      "metadata": {
        "id": "lwCGO6PBU5Bx",
        "colab_type": "code",
        "colab": {}
      },
      "source": [
        "\n",
        "#print new weight\n",
        "print(w)\n",
        "print(b)\n",
        "\n",
        "#Calculate losss\n",
        "preds=model(inputs)\n",
        "loss=mseo(preds,targets)\n",
        "print(loss)\n",
        "\n",
        "\n",
        "#Train for multiple epochs\n",
        "#train for 80 epochs\n",
        "for i in range(80):\n",
        "    preds=model(inputs)\n",
        "    loss=mse(preds,targets)\n",
        "    loss.backward()\n",
        "    with torch.no_grad():\n",
        "        w -= w.grad * le-5\n",
        "        b -= b.grad * le-5\n",
        "        w.grad.zero_()\n",
        "        b.grad.zero_()\n",
        "        \n",
        "#calculate the loss\n",
        "Preds =model(inputs)\n",
        "loss=mse(preds,targets)\n",
        "\n",
        "#Prediction\n",
        "print(preds)\n",
        "print(targets)"
      ],
      "execution_count": 0,
      "outputs": []
    }
  ]
}