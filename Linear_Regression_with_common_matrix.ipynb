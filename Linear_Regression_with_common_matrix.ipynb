{
  "nbformat": 4,
  "nbformat_minor": 0,
  "metadata": {
    "colab": {
      "name": "Linear Regression with common matrix.ipynb",
      "provenance": [],
      "collapsed_sections": [],
      "authorship_tag": "ABX9TyMXqQxIYg9ImdKYkmYn9i0G",
      "include_colab_link": true
    },
    "kernelspec": {
      "name": "python3",
      "display_name": "Python 3"
    }
  },
  "cells": [
    {
      "cell_type": "markdown",
      "metadata": {
        "id": "view-in-github",
        "colab_type": "text"
      },
      "source": [
        "<a href=\"https://colab.research.google.com/github/sanjeet123456789/python-deep-learning/blob/master/Linear_Regression_with_common_matrix.ipynb\" target=\"_parent\"><img src=\"https://colab.research.google.com/assets/colab-badge.svg\" alt=\"Open In Colab\"/></a>"
      ]
    },
    {
      "cell_type": "code",
      "metadata": {
        "id": "xUq_cFQIMeCi",
        "colab_type": "code",
        "colab": {}
      },
      "source": [
        "import numpy as np\n",
        "import torch\n",
        "from math import log\n",
        "#Input temp,rainfall,humidity\n",
        "inputs=np.array([[73,67,43],\n",
        "                 [91,88,64],\n",
        "                 [87,134,58],\n",
        "                [102,43,37],\n",
        "                 [69,96,70]],dtype='float32')\n",
        "\n",
        "targets=np.array([[56,70],[81,101],\n",
        "                 [119,133],\n",
        "                  [22,37],\n",
        "                  [103,119]\n",
        "                  \n",
        "                 ],dtype='float32')"
      ],
      "execution_count": 0,
      "outputs": []
    },
    {
      "cell_type": "code",
      "metadata": {
        "id": "syzlcozOM01G",
        "colab_type": "code",
        "outputId": "eef76326-87d9-45e3-ce24-33bc1ade62f9",
        "colab": {
          "base_uri": "https://localhost:8080/",
          "height": 191
        }
      },
      "source": [
        "#Convert inputand target into tensor\n",
        "inputs=torch.from_numpy(inputs)\n",
        "targets=torch.from_numpy(targets)\n",
        "print(inputs)\n",
        "print(targets)"
      ],
      "execution_count": 2,
      "outputs": [
        {
          "output_type": "stream",
          "text": [
            "tensor([[ 73.,  67.,  43.],\n",
            "        [ 91.,  88.,  64.],\n",
            "        [ 87., 134.,  58.],\n",
            "        [102.,  43.,  37.],\n",
            "        [ 69.,  96.,  70.]])\n",
            "tensor([[ 56.,  70.],\n",
            "        [ 81., 101.],\n",
            "        [119., 133.],\n",
            "        [ 22.,  37.],\n",
            "        [103., 119.]])\n"
          ],
          "name": "stdout"
        }
      ]
    },
    {
      "cell_type": "code",
      "metadata": {
        "id": "FkyeD8feNGyf",
        "colab_type": "code",
        "outputId": "91fe4b79-7d00-4017-9161-b5f28c9c0957",
        "colab": {
          "base_uri": "https://localhost:8080/",
          "height": 69
        }
      },
      "source": [
        "#Weights and biases\n",
        "w=torch.randn(2,3,requires_grad=True)\n",
        "b=torch.randn(2,requires_grad=True)\n",
        "print(w)\n",
        "print(b)"
      ],
      "execution_count": 3,
      "outputs": [
        {
          "output_type": "stream",
          "text": [
            "tensor([[-0.0828,  1.4440, -1.6088],\n",
            "        [ 1.0154,  1.1747, -1.4349]], requires_grad=True)\n",
            "tensor([0.3721, 0.7381], requires_grad=True)\n"
          ],
          "name": "stdout"
        }
      ]
    },
    {
      "cell_type": "code",
      "metadata": {
        "id": "BDSjFx0WNHRN",
        "colab_type": "code",
        "colab": {}
      },
      "source": [
        "#processing by multiplying data matrix with weights matrix and adding to the biase matrix\n",
        "def model(x):\n",
        "    return  x @ w.t() + b #@matrix represetion in pytorch\n"
      ],
      "execution_count": 0,
      "outputs": []
    },
    {
      "cell_type": "code",
      "metadata": {
        "id": "tdG4RuGnNHpL",
        "colab_type": "code",
        "outputId": "e2e5db1b-a81a-416b-db88-8e586e3e1cd5",
        "colab": {
          "base_uri": "https://localhost:8080/",
          "height": 191
        }
      },
      "source": [
        "#Generating prediction\n",
        "preds= model(inputs)\n",
        "print(preds)\n",
        "\n",
        "#Comparing with targets\n",
        "print(targets)"
      ],
      "execution_count": 5,
      "outputs": [
        {
          "output_type": "stream",
          "text": [
            "tensor([[ 21.8986,  91.8712],\n",
            "        [ 16.9476, 104.6856],\n",
            "        [ 93.3564, 163.2711],\n",
            "        [ -5.5054, 101.7343],\n",
            "        [ 20.6679,  83.1347]], grad_fn=<AddBackward0>)\n",
            "tensor([[ 56.,  70.],\n",
            "        [ 81., 101.],\n",
            "        [119., 133.],\n",
            "        [ 22.,  37.],\n",
            "        [103., 119.]])\n"
          ],
          "name": "stdout"
        }
      ]
    },
    {
      "cell_type": "code",
      "metadata": {
        "id": "zfsS-H99N8wb",
        "colab_type": "code",
        "colab": {}
      },
      "source": [
        "#Loss function mse(mean square error)\n",
        "def mse(t1,t2):\n",
        "    diff=t1-t2\n",
        "    return torch.sum(diff*diff)/diff.numel()#numel give number of element in diff"
      ],
      "execution_count": 0,
      "outputs": []
    },
    {
      "cell_type": "code",
      "metadata": {
        "id": "HMNvQfLlOFU6",
        "colab_type": "code",
        "outputId": "65224a7b-5fb9-44f3-8b2c-c78ec5810e58",
        "colab": {
          "base_uri": "https://localhost:8080/",
          "height": 34
        }
      },
      "source": [
        "#Computing loss\n",
        "loss=mse(preds,targets)\n",
        "print(loss)"
      ],
      "execution_count": 7,
      "outputs": [
        {
          "output_type": "stream",
          "text": [
            "tensor(2034.3450, grad_fn=<DivBackward0>)\n"
          ],
          "name": "stdout"
        }
      ]
    },
    {
      "cell_type": "code",
      "metadata": {
        "id": "16TAgTk_ORyC",
        "colab_type": "code",
        "outputId": "fed61195-3f41-4729-d0a2-968d571b06f8",
        "colab": {
          "base_uri": "https://localhost:8080/",
          "height": 121
        }
      },
      "source": [
        "###########Compute Gradients\n",
        "loss.backward()#required_grad must be true\n",
        "\n",
        "#Gradients for weights\n",
        "print(w)\n",
        "print(w.grad)#for 2*3=6 weight getting the loss asociated with it\n",
        "print(b)\n",
        "print(b.grad)# for 2 baise find the grad associate with it\n"
      ],
      "execution_count": 8,
      "outputs": [
        {
          "output_type": "stream",
          "text": [
            "tensor([[-0.0828,  1.4440, -1.6088],\n",
            "        [ 1.0154,  1.1747, -1.4349]], requires_grad=True)\n",
            "tensor([[-3807.1270, -4088.8528, -2766.7981],\n",
            "        [ 1738.7515,  1037.3065,   563.3314]])\n",
            "tensor([0.3721, 0.7381], requires_grad=True)\n",
            "tensor([-46.7270,  16.9394])\n"
          ],
          "name": "stdout"
        }
      ]
    },
    {
      "cell_type": "code",
      "metadata": {
        "id": "iw-eIMyLOTNx",
        "colab_type": "code",
        "outputId": "604d90bd-89a4-43ec-d950-8d38f9183171",
        "colab": {
          "base_uri": "https://localhost:8080/",
          "height": 69
        }
      },
      "source": [
        "#If a gradient element is positive\n",
        "#->increasing the element's value slightly will increase the loss\n",
        "#->descresing the element's value slightly will descrease the loss\n",
        "\n",
        "#If a grsdient element is negative\n",
        "#->increasing the element's value slightly will descrease the loss\n",
        "#->decresing the element's value slightly will increse the loss\n",
        "\n",
        "#reseting the weight and baise grad with zero\n",
        "w.grad.zero_()\n",
        "b.grad.zero_()\n",
        "print(w.grad)\n",
        "print(b.grad)\n",
        "#Adjust the weight of gradient weight and baise\n",
        "#generate Predictions\n",
        "#Calculate the loss\n",
        "#Compute gradient w.r.t. the weight and baises\n",
        "#adjust the weightby subtractin a small quantity proportional to the gradients\n",
        "# reset the gradient to zero\n"
      ],
      "execution_count": 9,
      "outputs": [
        {
          "output_type": "stream",
          "text": [
            "tensor([[0., 0., 0.],\n",
            "        [0., 0., 0.]])\n",
            "tensor([0., 0.])\n"
          ],
          "name": "stdout"
        }
      ]
    },
    {
      "cell_type": "code",
      "metadata": {
        "id": "fasuHyiGOluQ",
        "colab_type": "code",
        "outputId": "213c711c-0e41-4210-cf3a-673e7b9f85f8",
        "colab": {
          "base_uri": "https://localhost:8080/",
          "height": 173
        }
      },
      "source": [
        "\n",
        "\n",
        "#Generate Prediction\n",
        "preds=model(inputs)\n",
        "print(preds)\n",
        "\n",
        "#Calculate the loss\n",
        "loss=mse(preds,targets)\n",
        "print(loss)\n",
        "\n",
        "#compute gradients\n",
        "loss.backward()\n",
        "print(w.grad)\n",
        "print(b.grad)"
      ],
      "execution_count": 10,
      "outputs": [
        {
          "output_type": "stream",
          "text": [
            "tensor([[ 21.8986,  91.8712],\n",
            "        [ 16.9476, 104.6856],\n",
            "        [ 93.3564, 163.2711],\n",
            "        [ -5.5054, 101.7343],\n",
            "        [ 20.6679,  83.1347]], grad_fn=<AddBackward0>)\n",
            "tensor(2034.3450, grad_fn=<DivBackward0>)\n",
            "tensor([[-3807.1270, -4088.8528, -2766.7981],\n",
            "        [ 1738.7515,  1037.3065,   563.3314]])\n",
            "tensor([-46.7270,  16.9394])\n"
          ],
          "name": "stdout"
        }
      ]
    },
    {
      "cell_type": "code",
      "metadata": {
        "id": "deDFcq4AOqAQ",
        "colab_type": "code",
        "outputId": "52d34f72-b24e-43a7-ab12-e9c65e9cb203",
        "colab": {
          "base_uri": "https://localhost:8080/",
          "height": 69
        }
      },
      "source": [
        "from math import log\n",
        "#Adjust weight &reset gradients\n",
        "with torch.no_grad():\n",
        "    w_ = w.grad * 1e-5\n",
        "    b_ = b.grad * 1e-5\n",
        "    w.grad.zero_()\n",
        "    b.grad.zero_()\n",
        "\n",
        "#print new weight\n",
        "print(w)\n",
        "print(b)"
      ],
      "execution_count": 11,
      "outputs": [
        {
          "output_type": "stream",
          "text": [
            "tensor([[-0.0828,  1.4440, -1.6088],\n",
            "        [ 1.0154,  1.1747, -1.4349]], requires_grad=True)\n",
            "tensor([0.3721, 0.7381], requires_grad=True)\n"
          ],
          "name": "stdout"
        }
      ]
    },
    {
      "cell_type": "code",
      "metadata": {
        "id": "mzXFcnj9pumI",
        "colab_type": "code",
        "colab": {
          "base_uri": "https://localhost:8080/",
          "height": 86
        },
        "outputId": "ca1b69e7-3d3d-4e62-bbcd-aa64ac4cfed0"
      },
      "source": [
        "#print new weight\n",
        "print(w)\n",
        "print(b)\n",
        "\n",
        "#Calculate losss\n",
        "preds=model(inputs)\n",
        "loss=mse(preds,targets)\n",
        "print(loss)"
      ],
      "execution_count": 12,
      "outputs": [
        {
          "output_type": "stream",
          "text": [
            "tensor([[-0.0828,  1.4440, -1.6088],\n",
            "        [ 1.0154,  1.1747, -1.4349]], requires_grad=True)\n",
            "tensor([0.3721, 0.7381], requires_grad=True)\n",
            "tensor(2034.3450, grad_fn=<DivBackward0>)\n"
          ],
          "name": "stdout"
        }
      ]
    },
    {
      "cell_type": "code",
      "metadata": {
        "id": "YX6skosXpzOD",
        "colab_type": "code",
        "colab": {}
      },
      "source": [
        "#Train for multiple epochs\n",
        "#train for 80 epochs\n",
        "for i in range(80):\n",
        "    preds=model(inputs)\n",
        "    loss=mse(preds,targets)\n",
        "    loss.backward()\n",
        "    with torch.no_grad():\n",
        "        w -= w.grad * 1e-5\n",
        "        b -= b.grad * 1e-5\n",
        "        w.grad.zero_()\n",
        "        b.grad.zero_()"
      ],
      "execution_count": 0,
      "outputs": []
    },
    {
      "cell_type": "code",
      "metadata": {
        "id": "lwCGO6PBU5Bx",
        "colab_type": "code",
        "colab": {
          "base_uri": "https://localhost:8080/",
          "height": 191
        },
        "outputId": "30c118c8-8007-4eb0-8e78-6dcfc24777ce"
      },
      "source": [
        "      \n",
        "#calculate the loss\n",
        "Preds =model(inputs)\n",
        "loss=mse(preds,targets)\n",
        "\n",
        "#Prediction\n",
        "print(preds)\n",
        "print(targets)"
      ],
      "execution_count": 14,
      "outputs": [
        {
          "output_type": "stream",
          "text": [
            "tensor([[ 59.1511,  76.7850],\n",
            "        [ 67.2744,  87.8546],\n",
            "        [149.4628, 151.6963],\n",
            "        [ 30.6200,  72.2070],\n",
            "        [ 70.4503,  76.4516]], grad_fn=<AddBackward0>)\n",
            "tensor([[ 56.,  70.],\n",
            "        [ 81., 101.],\n",
            "        [119., 133.],\n",
            "        [ 22.,  37.],\n",
            "        [103., 119.]])\n"
          ],
          "name": "stdout"
        }
      ]
    }
  ]
}