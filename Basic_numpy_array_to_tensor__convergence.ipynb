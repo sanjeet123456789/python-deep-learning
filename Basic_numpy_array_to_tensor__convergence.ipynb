{
  "nbformat": 4,
  "nbformat_minor": 0,
  "metadata": {
    "colab": {
      "name": "Basic_numpy_array_to_tensor_ convergence.ipynb",
      "provenance": [],
      "authorship_tag": "ABX9TyNCUqSiv1jgv/Kc+F57JP4L",
      "include_colab_link": true
    },
    "kernelspec": {
      "name": "python3",
      "display_name": "Python 3"
    }
  },
  "cells": [
    {
      "cell_type": "markdown",
      "metadata": {
        "id": "view-in-github",
        "colab_type": "text"
      },
      "source": [
        "<a href=\"https://colab.research.google.com/github/sanjeet123456789/python-deep-learning/blob/master/Basic_numpy_array_to_tensor__convergence.ipynb\" target=\"_parent\"><img src=\"https://colab.research.google.com/assets/colab-badge.svg\" alt=\"Open In Colab\"/></a>"
      ]
    },
    {
      "cell_type": "code",
      "metadata": {
        "id": "3SsYf8prH_33",
        "colab_type": "code",
        "colab": {
          "base_uri": "https://localhost:8080/",
          "height": 86
        },
        "outputId": "f3b1f6f0-c33a-42b1-b1a2-edaead7de316"
      },
      "source": [
        "import torch;\n",
        "t1=torch.tensor(4.)\n",
        "print(t1.dtype)\n",
        "print(t1.shape)\n",
        "print(t1)\n",
        "t2=torch.tensor([1,2,3,4])\n",
        "t3=torch.tensor([[5.,6],[7,8],[9,10]])\n",
        "# Tensor Operations and gradients\n",
        "x=torch.tensor(3.)\n",
        "w=torch.tensor(4.,requires_grad=True)\n",
        "b=torch.tensor(5.,requires_grad=True)\n",
        "y=w*x+b\n",
        "print(y)"
      ],
      "execution_count": 10,
      "outputs": [
        {
          "output_type": "stream",
          "text": [
            "torch.float32\n",
            "torch.Size([])\n",
            "tensor(4.)\n",
            "tensor(17., grad_fn=<AddBackward0>)\n"
          ],
          "name": "stdout"
        }
      ]
    },
    {
      "cell_type": "code",
      "metadata": {
        "id": "xlOKWK4KISgu",
        "colab_type": "code",
        "colab": {
          "base_uri": "https://localhost:8080/",
          "height": 69
        },
        "outputId": "20d8aca2-ecf2-493f-aca3-56f9dbd11f85"
      },
      "source": [
        "#compute derivatives\n",
        "y.backward()\n",
        "print('dy/dx',x.grad)\n",
        "print('dy/dw',w.grad)\n",
        "print('dy/db',b.grad)"
      ],
      "execution_count": 11,
      "outputs": [
        {
          "output_type": "stream",
          "text": [
            "dy/dx None\n",
            "dy/dw tensor(3.)\n",
            "dy/db tensor(1.)\n"
          ],
          "name": "stdout"
        }
      ]
    },
    {
      "cell_type": "code",
      "metadata": {
        "id": "Qjt2XXPRKKsJ",
        "colab_type": "code",
        "colab": {}
      },
      "source": [
        "\n",
        "import numpy as np #mutidimentional array\n",
        "import matplotlib as mlt #for plotting and visualization\n",
        "import pandas #for file I/O and data analysis"
      ],
      "execution_count": 0,
      "outputs": []
    },
    {
      "cell_type": "code",
      "metadata": {
        "id": "LYDY3rHpKtBf",
        "colab_type": "code",
        "colab": {
          "base_uri": "https://localhost:8080/",
          "height": 139
        },
        "outputId": "9c1fc2f8-fd44-44c4-b114-89bcb371ff71"
      },
      "source": [
        "x=np.array([[9,6,4], [5,4,7], [2,4,5.]])\n",
        "print(x)\n",
        "#Convert the numpy to a torch tensor\n",
        "y=torch.tensor(x)#create a copy of data\n",
        "y=torch.from_numpy(x)#it doesnot create a copy\n",
        "print(y)\n",
        "print(x.dtype,y.dtype)"
      ],
      "execution_count": 25,
      "outputs": [
        {
          "output_type": "stream",
          "text": [
            "[[9. 6. 4.]\n",
            " [5. 4. 7.]\n",
            " [2. 4. 5.]]\n",
            "tensor([[9., 6., 4.],\n",
            "        [5., 4., 7.],\n",
            "        [2., 4., 5.]], dtype=torch.float64)\n",
            "float64 torch.float64\n"
          ],
          "name": "stdout"
        }
      ]
    },
    {
      "cell_type": "code",
      "metadata": {
        "id": "PwzOpw_JLywF",
        "colab_type": "code",
        "colab": {
          "base_uri": "https://localhost:8080/",
          "height": 69
        },
        "outputId": "05c77821-c9ba-4393-ae04-c12ba8cdbe93"
      },
      "source": [
        "#Convert a torch tensor to a numpy array\n",
        "z=y.numpy()\n",
        "print(z)"
      ],
      "execution_count": 26,
      "outputs": [
        {
          "output_type": "stream",
          "text": [
            "[[9. 6. 4.]\n",
            " [5. 4. 7.]\n",
            " [2. 4. 5.]]\n"
          ],
          "name": "stdout"
        }
      ]
    }
  ]
}