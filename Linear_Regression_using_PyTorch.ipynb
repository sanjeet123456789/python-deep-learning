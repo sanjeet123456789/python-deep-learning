{
  "nbformat": 4,
  "nbformat_minor": 0,
  "metadata": {
    "colab": {
      "name": "Linear Regression using PyTorch.ipynb",
      "provenance": [],
      "authorship_tag": "ABX9TyOtvu4ZocDzcNaLP+nSFxdE",
      "include_colab_link": true
    },
    "kernelspec": {
      "name": "python3",
      "display_name": "Python 3"
    }
  },
  "cells": [
    {
      "cell_type": "markdown",
      "metadata": {
        "id": "view-in-github",
        "colab_type": "text"
      },
      "source": [
        "<a href=\"https://colab.research.google.com/github/sanjeet123456789/python-deep-learning/blob/master/Linear_Regression_using_PyTorch.ipynb\" target=\"_parent\"><img src=\"https://colab.research.google.com/assets/colab-badge.svg\" alt=\"Open In Colab\"/></a>"
      ]
    },
    {
      "cell_type": "code",
      "metadata": {
        "id": "5xrfLR3Fw3rk",
        "colab_type": "code",
        "colab": {}
      },
      "source": [
        "#Linear Regression using PyTorch\n",
        "import torch.nn as nn\n",
        "import torch\n",
        "import numpy as np\n",
        "#Inputs(temp,rainfall,humidity)\n",
        "inputs=np.array([[75,89,45],[45,14,56],[78,89,63],\n",
        "                [102,78,46],[99,88,77],[56,78,95],\n",
        "                 [12,45,69],[96,75,15],[22,34,77],\n",
        "                 [69,96,70],[73,67,43],[91,88,77],\n",
        "                 [87,198,56],[103,68,77],[69,95,70.0]],dtype='float32')\n",
        "#Targets(wheat,rice)\n",
        "targets=np.array([[95,78],[66,77],[119,133],\n",
        "                  [89,65],[98,78],[89,76],\n",
        "                  [81,101],[119,133],[22,37],\n",
        "                  [153,78],[56,70],[86,103],\n",
        "                  [116,123],[56,42],[71,56]\n",
        "                 ],dtype='float32')\n",
        "\n",
        "inputs=torch.from_numpy(inputs)\n",
        "targets=torch.from_numpy(targets)\n"
      ],
      "execution_count": 0,
      "outputs": []
    },
    {
      "cell_type": "code",
      "metadata": {
        "id": "GvCBZSGSz1gR",
        "colab_type": "code",
        "colab": {
          "base_uri": "https://localhost:8080/",
          "height": 225
        },
        "outputId": "240b69ea-c904-483a-a00b-d806c36184e2"
      },
      "source": [
        "#Dataset and DataLoader\n",
        "from torch.utils.data import TensorDataset\n",
        "\n",
        "#Define dataset\n",
        "train_ds=TensorDataset(inputs,targets)\n",
        "print(train_ds[0:3])\n",
        "print(train_ds[[1,3,5,7]])\n"
      ],
      "execution_count": 11,
      "outputs": [
        {
          "output_type": "stream",
          "text": [
            "(tensor([[75., 89., 45.],\n",
            "        [45., 14., 56.],\n",
            "        [78., 89., 63.]]), tensor([[ 95.,  78.],\n",
            "        [ 66.,  77.],\n",
            "        [119., 133.]]))\n",
            "(tensor([[ 45.,  14.,  56.],\n",
            "        [102.,  78.,  46.],\n",
            "        [ 56.,  78.,  95.],\n",
            "        [ 96.,  75.,  15.]]), tensor([[ 66.,  77.],\n",
            "        [ 89.,  65.],\n",
            "        [ 89.,  76.],\n",
            "        [119., 133.]]))\n"
          ],
          "name": "stdout"
        }
      ]
    },
    {
      "cell_type": "code",
      "metadata": {
        "id": "K2l_EkEn03fx",
        "colab_type": "code",
        "colab": {
          "base_uri": "https://localhost:8080/",
          "height": 191
        },
        "outputId": "2be8f957-453b-403a-ae89-194638d72bd7"
      },
      "source": [
        "from torch.utils.data import DataLoader\n",
        "# split data into batch of a predefined size\n",
        "batch_size=5\n",
        "train_dl=DataLoader(train_ds,batch_size,shuffle=True)\n",
        "for xb,yb in train_dl:\n",
        "    print(xb)\n",
        "    print(yb)\n",
        "    break"
      ],
      "execution_count": 12,
      "outputs": [
        {
          "output_type": "stream",
          "text": [
            "tensor([[75., 89., 45.],\n",
            "        [96., 75., 15.],\n",
            "        [69., 96., 70.],\n",
            "        [45., 14., 56.],\n",
            "        [12., 45., 69.]])\n",
            "tensor([[ 95.,  78.],\n",
            "        [119., 133.],\n",
            "        [153.,  78.],\n",
            "        [ 66.,  77.],\n",
            "        [ 81., 101.]])\n"
          ],
          "name": "stdout"
        }
      ]
    },
    {
      "cell_type": "code",
      "metadata": {
        "id": "p4n3PzBH05qj",
        "colab_type": "code",
        "colab": {
          "base_uri": "https://localhost:8080/",
          "height": 104
        },
        "outputId": "00f4da3d-2f41-4ac7-d9b9-486dfea7a361"
      },
      "source": [
        "   \n",
        "#define model\n",
        "model=nn.Linear(3,2)# 3 input and 2 output\n",
        "print(model.weight)\n",
        "print(model.bias)"
      ],
      "execution_count": 16,
      "outputs": [
        {
          "output_type": "stream",
          "text": [
            "Parameter containing:\n",
            "tensor([[-0.1105, -0.5336, -0.3855],\n",
            "        [-0.2759, -0.3758, -0.4982]], requires_grad=True)\n",
            "Parameter containing:\n",
            "tensor([0.3946, 0.1253], requires_grad=True)\n"
          ],
          "name": "stdout"
        }
      ]
    },
    {
      "cell_type": "code",
      "metadata": {
        "id": "n6VRFZvp10lX",
        "colab_type": "code",
        "colab": {
          "base_uri": "https://localhost:8080/",
          "height": 104
        },
        "outputId": "1dc31d0c-8bb7-4eed-869d-c33ace8ff20b"
      },
      "source": [
        "#parameters return list of all baise and weights\n",
        "list(model.parameters())\n"
      ],
      "execution_count": 17,
      "outputs": [
        {
          "output_type": "execute_result",
          "data": {
            "text/plain": [
              "[Parameter containing:\n",
              " tensor([[-0.1105, -0.5336, -0.3855],\n",
              "         [-0.2759, -0.3758, -0.4982]], requires_grad=True),\n",
              " Parameter containing:\n",
              " tensor([0.3946, 0.1253], requires_grad=True)]"
            ]
          },
          "metadata": {
            "tags": []
          },
          "execution_count": 17
        }
      ]
    },
    {
      "cell_type": "code",
      "metadata": {
        "id": "DCo2JoUI15BF",
        "colab_type": "code",
        "colab": {
          "base_uri": "https://localhost:8080/",
          "height": 538
        },
        "outputId": "6439ed08-3e07-4aa1-c40e-a418890a18b3"
      },
      "source": [
        "preds=model(inputs)\n",
        "print(preds)\n",
        "print(targets)"
      ],
      "execution_count": 19,
      "outputs": [
        {
          "output_type": "stream",
          "text": [
            "tensor([[ -72.7246,  -76.4289],\n",
            "        [ -33.6341,  -45.4482],\n",
            "        [ -79.9949,  -86.2234],\n",
            "        [ -70.2239,  -80.2433],\n",
            "        [ -87.1782,  -98.6160],\n",
            "        [ -84.0310,  -91.9605],\n",
            "        [ -51.5399,  -54.4678],\n",
            "        [ -56.0101,  -62.0179],\n",
            "        [ -49.8595,  -57.0787],\n",
            "        [ -85.4339,  -89.8576],\n",
            "        [ -59.9945,  -66.6138],\n",
            "        [ -86.2944,  -96.4086],\n",
            "        [-136.4481, -126.1786],\n",
            "        [ -76.9490,  -92.2042],\n",
            "        [ -84.9003,  -89.4818]], grad_fn=<AddmmBackward>)\n",
            "tensor([[ 95.,  78.],\n",
            "        [ 66.,  77.],\n",
            "        [119., 133.],\n",
            "        [ 89.,  65.],\n",
            "        [ 98.,  78.],\n",
            "        [ 89.,  76.],\n",
            "        [ 81., 101.],\n",
            "        [119., 133.],\n",
            "        [ 22.,  37.],\n",
            "        [153.,  78.],\n",
            "        [ 56.,  70.],\n",
            "        [ 86., 103.],\n",
            "        [116., 123.],\n",
            "        [ 56.,  42.],\n",
            "        [ 71.,  56.]])\n"
          ],
          "name": "stdout"
        }
      ]
    },
    {
      "cell_type": "code",
      "metadata": {
        "id": "xlFRjnIB2CkF",
        "colab_type": "code",
        "colab": {
          "base_uri": "https://localhost:8080/",
          "height": 34
        },
        "outputId": "87c60aa1-81cf-4c80-951c-1ea6bed25a5b"
      },
      "source": [
        "#loss function\n",
        "import torch.nn.functional as F\n",
        "loss_fn=F.mse_loss\n",
        "loss=loss_fn(model(inputs),targets)\n",
        "print(loss)"
      ],
      "execution_count": 20,
      "outputs": [
        {
          "output_type": "stream",
          "text": [
            "tensor(28420.7617, grad_fn=<MseLossBackward>)\n"
          ],
          "name": "stdout"
        }
      ]
    },
    {
      "cell_type": "code",
      "metadata": {
        "id": "a5YqYRHm2Gvy",
        "colab_type": "code",
        "colab": {}
      },
      "source": [
        "#optimizer\n",
        "#define optimizer stochastic gradient desent\n",
        "opt=torch.optim.SGD(model.parameters(),lr=1e-5)\n",
        "#adam\n",
        "#rmsprop"
      ],
      "execution_count": 0,
      "outputs": []
    },
    {
      "cell_type": "code",
      "metadata": {
        "id": "MDQ3jI_c2NMl",
        "colab_type": "code",
        "colab": {}
      },
      "source": [
        "#train the model\n",
        "def fit(num_epochs,model,loss_fn,opt):\n",
        "    #repeat for given number of epochs\n",
        "    for epoch in range(num_epochs):\n",
        "        #train with batch of data\n",
        "        for xb,yb in train_dl:\n",
        "            #Generating  prediction\n",
        "            pred=model(xb)\n",
        "            # Calculate loss\n",
        "            loss=loss_fn(pred,yb)\n",
        "            #compute gradients\n",
        "            loss.backward()\n",
        "            #update parameters using gradients\n",
        "            opt.step()\n",
        "            #Reset the gradient to zero\n",
        "            opt.zero_grad()\n",
        "        #print progress\n",
        "        if(epoch+1)%10==0:\n",
        "            print('Epochs[{}/{}],Loss:{:.4f}'.format(epoch+1,num_epochs,loss.item()))"
      ],
      "execution_count": 0,
      "outputs": []
    },
    {
      "cell_type": "code",
      "metadata": {
        "id": "VOUTJeGU2XWp",
        "colab_type": "code",
        "colab": {
          "base_uri": "https://localhost:8080/",
          "height": 712
        },
        "outputId": "b7068c50-eff6-4d40-a37b-80564d55f08b"
      },
      "source": [
        "#train the model\n",
        "fit(400,model,loss_fn,opt)"
      ],
      "execution_count": 28,
      "outputs": [
        {
          "output_type": "stream",
          "text": [
            "Epochs[10/400],Loss:382.1761\n",
            "Epochs[20/400],Loss:1392.2644\n",
            "Epochs[30/400],Loss:1257.5901\n",
            "Epochs[40/400],Loss:1048.1176\n",
            "Epochs[50/400],Loss:818.0488\n",
            "Epochs[60/400],Loss:566.2281\n",
            "Epochs[70/400],Loss:1078.5481\n",
            "Epochs[80/400],Loss:459.3264\n",
            "Epochs[90/400],Loss:852.1952\n",
            "Epochs[100/400],Loss:996.8306\n",
            "Epochs[110/400],Loss:258.1724\n",
            "Epochs[120/400],Loss:1667.9125\n",
            "Epochs[130/400],Loss:982.8255\n",
            "Epochs[140/400],Loss:1620.2378\n",
            "Epochs[150/400],Loss:851.5975\n",
            "Epochs[160/400],Loss:1410.6937\n",
            "Epochs[170/400],Loss:798.7283\n",
            "Epochs[180/400],Loss:1401.5544\n",
            "Epochs[190/400],Loss:305.5558\n",
            "Epochs[200/400],Loss:1172.5072\n",
            "Epochs[210/400],Loss:1138.5754\n",
            "Epochs[220/400],Loss:1178.1365\n",
            "Epochs[230/400],Loss:670.7391\n",
            "Epochs[240/400],Loss:874.9301\n",
            "Epochs[250/400],Loss:1085.6090\n",
            "Epochs[260/400],Loss:176.7318\n",
            "Epochs[270/400],Loss:759.7612\n",
            "Epochs[280/400],Loss:1174.4287\n",
            "Epochs[290/400],Loss:849.4178\n",
            "Epochs[300/400],Loss:1481.1278\n",
            "Epochs[310/400],Loss:832.5601\n",
            "Epochs[320/400],Loss:1137.4470\n",
            "Epochs[330/400],Loss:362.0429\n",
            "Epochs[340/400],Loss:295.1623\n",
            "Epochs[350/400],Loss:1071.1898\n",
            "Epochs[360/400],Loss:1625.4172\n",
            "Epochs[370/400],Loss:825.8439\n",
            "Epochs[380/400],Loss:944.9917\n",
            "Epochs[390/400],Loss:392.8746\n",
            "Epochs[400/400],Loss:801.9137\n"
          ],
          "name": "stdout"
        }
      ]
    },
    {
      "cell_type": "code",
      "metadata": {
        "id": "i-TjfnR82ZYr",
        "colab_type": "code",
        "colab": {
          "base_uri": "https://localhost:8080/",
          "height": 538
        },
        "outputId": "1ddb0650-5a56-435a-883f-b8df32ab2065"
      },
      "source": [
        "#Generate Predictions\n",
        "preds=model(inputs)\n",
        "print(preds)\n",
        "\n",
        "#Compare with targets\n",
        "print(targets)"
      ],
      "execution_count": 29,
      "outputs": [
        {
          "output_type": "stream",
          "text": [
            "tensor([[ 84.6581,  77.3566],\n",
            "        [ 43.2102,  39.2053],\n",
            "        [ 91.4277,  83.8663],\n",
            "        [ 92.2809,  82.9892],\n",
            "        [104.5285,  95.3067],\n",
            "        [ 86.7529,  81.0226],\n",
            "        [ 45.5687,  43.7561],\n",
            "        [ 78.9934,  70.2527],\n",
            "        [ 47.7895,  45.3174],\n",
            "        [ 92.5045,  85.5549],\n",
            "        [ 73.9271,  67.0635],\n",
            "        [100.9904,  92.3990],\n",
            "        [139.0803, 129.4426],\n",
            "        [ 97.8960,  88.6115],\n",
            "        [ 92.0844,  85.1474]], grad_fn=<AddmmBackward>)\n",
            "tensor([[ 95.,  78.],\n",
            "        [ 66.,  77.],\n",
            "        [119., 133.],\n",
            "        [ 89.,  65.],\n",
            "        [ 98.,  78.],\n",
            "        [ 89.,  76.],\n",
            "        [ 81., 101.],\n",
            "        [119., 133.],\n",
            "        [ 22.,  37.],\n",
            "        [153.,  78.],\n",
            "        [ 56.,  70.],\n",
            "        [ 86., 103.],\n",
            "        [116., 123.],\n",
            "        [ 56.,  42.],\n",
            "        [ 71.,  56.]])\n"
          ],
          "name": "stdout"
        }
      ]
    },
    {
      "cell_type": "code",
      "metadata": {
        "id": "rfAiWupP2zpM",
        "colab_type": "code",
        "colab": {}
      },
      "source": [
        ""
      ],
      "execution_count": 0,
      "outputs": []
    }
  ]
}